{
 "cells": [
  {
   "cell_type": "markdown",
   "metadata": {},
   "source": [
    "### Import Necessary packages"
   ]
  },
  {
   "cell_type": "code",
   "execution_count": 1,
   "metadata": {
    "ExecuteTime": {
     "end_time": "2021-01-27T02:22:30.552954Z",
     "start_time": "2021-01-27T02:22:30.253653Z"
    }
   },
   "outputs": [],
   "source": [
    "import pandas as pd\n",
    "import numpy as np"
   ]
  },
  {
   "cell_type": "code",
   "execution_count": null,
   "metadata": {
    "ExecuteTime": {
     "end_time": "2021-01-11T21:26:24.930911Z",
     "start_time": "2021-01-11T21:24:19.796544Z"
    }
   },
   "outputs": [],
   "source": [
    "df = pd.read_csv('data/full_data.csv', index_col = 0, parse_dates = [2,3])\n",
    "df.head()"
   ]
  },
  {
   "cell_type": "code",
   "execution_count": null,
   "metadata": {
    "ExecuteTime": {
     "end_time": "2021-01-11T21:26:57.762570Z",
     "start_time": "2021-01-11T21:26:57.749570Z"
    }
   },
   "outputs": [],
   "source": [
    "df.shape"
   ]
  },
  {
   "cell_type": "markdown",
   "metadata": {},
   "source": [
    "### Modify Dataset for Use"
   ]
  },
  {
   "cell_type": "code",
   "execution_count": null,
   "metadata": {
    "ExecuteTime": {
     "end_time": "2021-01-11T23:14:03.206878Z",
     "start_time": "2021-01-11T23:08:30.603749Z"
    }
   },
   "outputs": [],
   "source": [
    "# Drop lat_lng columns as they were only used for manipulation\n",
    "df.drop(['start_lat_lng', 'end_lat_lng'], axis = 1, inplace = True)\n",
    "df.to_csv('data/full_data.csv', index = False)"
   ]
  },
  {
   "cell_type": "code",
   "execution_count": null,
   "metadata": {
    "ExecuteTime": {
     "end_time": "2021-01-11T23:26:18.544172Z",
     "start_time": "2021-01-11T23:20:46.948753Z"
    },
    "scrolled": true
   },
   "outputs": [],
   "source": [
    "# split dataset into years\n",
    "years = np.arange(2010,2021,1)\n",
    "\n",
    "for year in years:\n",
    "    df[df.started_at.dt.year == year].to_csv(f'data/{year}_data.csv', index = False)"
   ]
  },
  {
   "cell_type": "markdown",
   "metadata": {},
   "source": [
    "### Create New Dataset\n",
    "Instead of loading in the whole dataset to calculate total rides per day during the modeling stage, a separate dataset will be created containing the relevant information. "
   ]
  },
  {
   "cell_type": "code",
   "execution_count": 53,
   "metadata": {
    "ExecuteTime": {
     "end_time": "2021-01-27T03:41:39.900336Z",
     "start_time": "2021-01-27T03:41:39.882337Z"
    }
   },
   "outputs": [],
   "source": [
    "def get_daily_counts(df):\n",
    "    return (df['started_at']\n",
    "           .dt.floor('d')\n",
    "           .value_counts()\n",
    "           .rename_axis('date')\n",
    "           .reset_index(name = 'count'))"
   ]
  },
  {
   "cell_type": "code",
   "execution_count": 54,
   "metadata": {
    "ExecuteTime": {
     "end_time": "2021-01-27T03:43:16.201008Z",
     "start_time": "2021-01-27T03:41:40.934460Z"
    }
   },
   "outputs": [
    {
     "name": "stderr",
     "output_type": "stream",
     "text": [
      "C:\\Users\\Ji Ho\\AppData\\Roaming\\Python\\Python38\\site-packages\\IPython\\core\\interactiveshell.py:3145: DtypeWarning: Columns (10) have mixed types.Specify dtype option on import or set low_memory=False.\n",
      "  has_raised = await self.run_ast_nodes(code_ast.body, cell_name,\n"
     ]
    }
   ],
   "source": [
    "import glob\n",
    "\n",
    "datafiles = glob.glob('data/20*.csv')\n",
    "\n",
    "daily_trips = []\n",
    "central_trips = []\n",
    "outskirts_trips = []\n",
    "\n",
    "for file in datafiles:\n",
    "    tmp = pd.read_csv(file, parse_dates = [1,2])\n",
    "    \n",
    "    lat_bool = (tmp['start_lat'] > 38.88) & (tmp['start_lat'] < 38.92)\n",
    "    lng_bool = (tmp['start_lng'] > -77.05) & (tmp['start_lng'] < -76.97)\n",
    "    \n",
    "    central = tmp[(lat_bool) & (lng_bool)]\n",
    "    outskirts = tmp[~((lat_bool) & (lng_bool))]\n",
    "    \n",
    "    daily_count = get_daily_counts(tmp)\n",
    "    central_count = get_daily_counts(central)\n",
    "    outskirts_count = get_daily_counts(outskirts)  \n",
    "    \n",
    "    daily_trips.append(daily_count)\n",
    "    central_trips.append(central_count)\n",
    "    outskirts_trips.append(outskirts_count)\n",
    "    \n",
    "daily_trips_df = pd.concat(daily_trips, axis = 0, ignore_index = True)\n",
    "central_trips_df = pd.concat(central_trips, axis = 0, ignore_index = True)\n",
    "outskirts_trips_df = pd.concat(outskirts_trips, axis = 0, ignore_index = True)    "
   ]
  },
  {
   "cell_type": "code",
   "execution_count": 55,
   "metadata": {
    "ExecuteTime": {
     "end_time": "2021-01-27T03:43:26.503383Z",
     "start_time": "2021-01-27T03:43:26.489374Z"
    }
   },
   "outputs": [],
   "source": [
    "daily_trips_df.sort_values(by = 'date', ignore_index = True, inplace = True)\n",
    "central_trips_df.sort_values(by = 'date', ignore_index = True, inplace = True)\n",
    "outskirts_trips_df.sort_values(by = 'date', ignore_index = True, inplace = True)"
   ]
  },
  {
   "cell_type": "code",
   "execution_count": 58,
   "metadata": {
    "ExecuteTime": {
     "end_time": "2021-01-27T03:49:30.206117Z",
     "start_time": "2021-01-27T03:49:30.090469Z"
    }
   },
   "outputs": [],
   "source": [
    "daily_trips_df.to_csv('data/trips_by_day.csv', index = False)\n",
    "central_trips_df.to_csv('data/central_trips.csv', index = False)\n",
    "outskirts_trips_df.to_csv('data/outskirts_trips.csv', index = False)"
   ]
  },
  {
   "cell_type": "code",
   "execution_count": null,
   "metadata": {},
   "outputs": [],
   "source": []
  }
 ],
 "metadata": {
  "kernelspec": {
   "display_name": "Python 3",
   "language": "python",
   "name": "python3"
  },
  "language_info": {
   "codemirror_mode": {
    "name": "ipython",
    "version": 3
   },
   "file_extension": ".py",
   "mimetype": "text/x-python",
   "name": "python",
   "nbconvert_exporter": "python",
   "pygments_lexer": "ipython3",
   "version": "3.8.3"
  },
  "varInspector": {
   "cols": {
    "lenName": 16,
    "lenType": 16,
    "lenVar": 40
   },
   "kernels_config": {
    "python": {
     "delete_cmd_postfix": "",
     "delete_cmd_prefix": "del ",
     "library": "var_list.py",
     "varRefreshCmd": "print(var_dic_list())"
    },
    "r": {
     "delete_cmd_postfix": ") ",
     "delete_cmd_prefix": "rm(",
     "library": "var_list.r",
     "varRefreshCmd": "cat(var_dic_list()) "
    }
   },
   "types_to_exclude": [
    "module",
    "function",
    "builtin_function_or_method",
    "instance",
    "_Feature"
   ],
   "window_display": false
  }
 },
 "nbformat": 4,
 "nbformat_minor": 4
}
