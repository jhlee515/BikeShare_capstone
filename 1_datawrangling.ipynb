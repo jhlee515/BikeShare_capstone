{
 "cells": [
  {
   "cell_type": "markdown",
   "metadata": {},
   "source": [
    "### Import necessary packages"
   ]
  },
  {
   "cell_type": "code",
   "execution_count": 1,
   "metadata": {
    "ExecuteTime": {
     "end_time": "2020-12-22T04:38:01.781548Z",
     "start_time": "2020-12-22T04:38:01.124243Z"
    }
   },
   "outputs": [],
   "source": [
    "import pandas as pd\n",
    "import numpy as np\n",
    "import csv\n",
    "import glob"
   ]
  },
  {
   "cell_type": "markdown",
   "metadata": {},
   "source": [
    "Due to the large filesize of the datasets, the data cannot be pushed to Github. The datasets and final combined dataset is available on this Google Drive link here."
   ]
  },
  {
   "cell_type": "code",
   "execution_count": 2,
   "metadata": {
    "ExecuteTime": {
     "end_time": "2020-12-22T04:38:01.941547Z",
     "start_time": "2020-12-22T04:38:01.783553Z"
    }
   },
   "outputs": [
    {
     "name": "stdout",
     "output_type": "stream",
     "text": [
      "data\\2010-capitalbikeshare-tripdata.csv ['Duration', 'Start date', 'End date', 'Start station number', 'Start station', 'End station number', 'End station', 'Bike number', 'Member type'] \n",
      "\n",
      "data\\2011-capitalbikeshare-tripdata.csv ['Duration', 'Start date', 'End date', 'Start station number', 'Start station', 'End station number', 'End station', 'Bike number', 'Member type'] \n",
      "\n",
      "data\\2012Q1-capitalbikeshare-tripdata.csv ['Duration', 'Start date', 'End date', 'Start station number', 'Start station', 'End station number', 'End station', 'Bike number', 'Member type'] \n",
      "\n",
      "data\\2012Q2-capitalbikeshare-tripdata.csv ['Duration', 'Start date', 'End date', 'Start station number', 'Start station', 'End station number', 'End station', 'Bike number', 'Member type'] \n",
      "\n",
      "data\\2012Q3-capitalbikeshare-tripdata.csv ['Duration', 'Start date', 'End date', 'Start station number', 'Start station', 'End station number', 'End station', 'Bike number', 'Member type'] \n",
      "\n",
      "data\\2012Q4-capitalbikeshare-tripdata.csv ['Duration', 'Start date', 'End date', 'Start station number', 'Start station', 'End station number', 'End station', 'Bike number', 'Member type'] \n",
      "\n",
      "data\\2013Q1-capitalbikeshare-tripdata.csv ['Duration', 'Start date', 'End date', 'Start station number', 'Start station', 'End station number', 'End station', 'Bike number', 'Member type'] \n",
      "\n",
      "data\\2013Q2-capitalbikeshare-tripdata.csv ['Duration', 'Start date', 'End date', 'Start station number', 'Start station', 'End station number', 'End station', 'Bike number', 'Member type'] \n",
      "\n",
      "data\\2013Q3-capitalbikeshare-tripdata.csv ['Duration', 'Start date', 'End date', 'Start station number', 'Start station', 'End station number', 'End station', 'Bike number', 'Member type'] \n",
      "\n",
      "data\\2013Q4-capitalbikeshare-tripdata.csv ['Duration', 'Start date', 'End date', 'Start station number', 'Start station', 'End station number', 'End station', 'Bike number', 'Member type'] \n",
      "\n",
      "data\\2014Q1-capitalbikeshare-tripdata.csv ['Duration', 'Start date', 'End date', 'Start station number', 'Start station', 'End station number', 'End station', 'Bike number', 'Member type'] \n",
      "\n",
      "data\\2014Q2-capitalbikeshare-tripdata.csv ['Duration', 'Start date', 'End date', 'Start station number', 'Start station', 'End station number', 'End station', 'Bike number', 'Member type'] \n",
      "\n",
      "data\\2014Q3-capitalbikeshare-tripdata.csv ['Duration', 'Start date', 'End date', 'Start station number', 'Start station', 'End station number', 'End station', 'Bike number', 'Member type'] \n",
      "\n",
      "data\\2014Q4-capitalbikeshare-tripdata.csv ['Duration', 'Start date', 'End date', 'Start station number', 'Start station', 'End station number', 'End station', 'Bike number', 'Member type'] \n",
      "\n",
      "data\\2015Q1-capitalbikeshare-tripdata.csv ['Duration', 'Start date', 'End date', 'Start station number', 'Start station', 'End station number', 'End station', 'Bike number', 'Member type'] \n",
      "\n",
      "data\\2015Q2-capitalbikeshare-tripdata.csv ['Duration', 'Start date', 'End date', 'Start station number', 'Start station', 'End station number', 'End station', 'Bike number', 'Member type'] \n",
      "\n",
      "data\\2015Q3-capitalbikeshare-tripdata.csv ['Duration', 'Start date', 'End date', 'Start station number', 'Start station', 'End station number', 'End station', 'Bike number', 'Member type'] \n",
      "\n",
      "data\\2015Q4-capitalbikeshare-tripdata.csv ['Duration', 'Start date', 'End date', 'Start station number', 'Start station', 'End station number', 'End station', 'Bike number', 'Member type'] \n",
      "\n",
      "data\\2016Q1-capitalbikeshare-tripdata.csv ['Duration', 'Start date', 'End date', 'Start station number', 'Start station', 'End station number', 'End station', 'Bike number', 'Member type'] \n",
      "\n",
      "data\\2016Q2-capitalbikeshare-tripdata.csv ['Duration', 'Start date', 'End date', 'Start station number', 'Start station', 'End station number', 'End station', 'Bike number', 'Member type'] \n",
      "\n",
      "data\\2016Q3-capitalbikeshare-tripdata.csv ['Duration', 'Start date', 'End date', 'Start station number', 'Start station', 'End station number', 'End station', 'Bike number', 'Member type'] \n",
      "\n",
      "data\\2016Q4-capitalbikeshare-tripdata.csv ['Duration', 'Start date', 'End date', 'Start station number', 'Start station', 'End station number', 'End station', 'Bike number', 'Member type'] \n",
      "\n",
      "data\\2017Q1-capitalbikeshare-tripdata.csv ['Duration', 'Start date', 'End date', 'Start station number', 'Start station', 'End station number', 'End station', 'Bike number', 'Member type'] \n",
      "\n",
      "data\\2017Q2-capitalbikeshare-tripdata.csv ['Duration', 'Start date', 'End date', 'Start station number', 'Start station', 'End station number', 'End station', 'Bike number', 'Member type'] \n",
      "\n",
      "data\\2017Q3-capitalbikeshare-tripdata.csv ['Duration', 'Start date', 'End date', 'Start station number', 'Start station', 'End station number', 'End station', 'Bike number', 'Member type'] \n",
      "\n",
      "data\\2017Q4-capitalbikeshare-tripdata.csv ['Duration', 'Start date', 'End date', 'Start station number', 'Start station', 'End station number', 'End station', 'Bike number', 'Member type'] \n",
      "\n",
      "data\\201801_capitalbikeshare_tripdata.csv ['Duration', 'Start date', 'End date', 'Start station number', 'Start station', 'End station number', 'End station', 'Bike number', 'Member type'] \n",
      "\n",
      "data\\201802-capitalbikeshare-tripdata.csv ['Duration', 'Start date', 'End date', 'Start station number', 'Start station', 'End station number', 'End station', 'Bike number', 'Member type'] \n",
      "\n",
      "data\\201803-capitalbikeshare-tripdata.csv ['Duration', 'Start date', 'End date', 'Start station number', 'Start station', 'End station number', 'End station', 'Bike number', 'Member type'] \n",
      "\n",
      "data\\201804-capitalbikeshare-tripdata.csv ['Duration', 'Start date', 'End date', 'Start station number', 'Start station', 'End station number', 'End station', 'Bike number', 'Member type'] \n",
      "\n",
      "data\\201805-capitalbikeshare-tripdata.csv ['Duration', 'Start date', 'End date', 'Start station number', 'Start station', 'End station number', 'End station', 'Bike number', 'Member type'] \n",
      "\n",
      "data\\201806-capitalbikeshare-tripdata.csv ['Duration', 'Start date', 'End date', 'Start station number', 'Start station', 'End station number', 'End station', 'Bike number', 'Member type'] \n",
      "\n",
      "data\\201807-capitalbikeshare-tripdata.csv ['Duration', 'Start date', 'End date', 'Start station number', 'Start station', 'End station number', 'End station', 'Bike number', 'Member type'] \n",
      "\n",
      "data\\201808-capitalbikeshare-tripdata.csv ['Duration', 'Start date', 'End date', 'Start station number', 'Start station', 'End station number', 'End station', 'Bike number', 'Member type'] \n",
      "\n",
      "data\\201809-capitalbikeshare-tripdata.csv ['Duration', 'Start date', 'End date', 'Start station number', 'Start station', 'End station number', 'End station', 'Bike number', 'Member type'] \n",
      "\n",
      "data\\201810-capitalbikeshare-tripdata.csv ['Duration', 'Start date', 'End date', 'Start station number', 'Start station', 'End station number', 'End station', 'Bike number', 'Member type'] \n",
      "\n",
      "data\\201811-capitalbikeshare-tripdata.csv ['Duration', 'Start date', 'End date', 'Start station number', 'Start station', 'End station number', 'End station', 'Bike number', 'Member type'] \n",
      "\n",
      "data\\201812-capitalbikeshare-tripdata.csv ['Duration', 'Start date', 'End date', 'Start station number', 'Start station', 'End station number', 'End station', 'Bike number', 'Member type'] \n",
      "\n",
      "data\\201901-capitalbikeshare-tripdata.csv ['Duration', 'Start date', 'End date', 'Start station number', 'Start station', 'End station number', 'End station', 'Bike number', 'Member type'] \n",
      "\n",
      "data\\201902-capitalbikeshare-tripdata.csv ['Duration', 'Start date', 'End date', 'Start station number', 'Start station', 'End station number', 'End station', 'Bike number', 'Member type'] \n",
      "\n",
      "data\\201903-capitalbikeshare-tripdata.csv ['Duration', 'Start date', 'End date', 'Start station number', 'Start station', 'End station number', 'End station', 'Bike number', 'Member type'] \n",
      "\n",
      "data\\201904-capitalbikeshare-tripdata.csv ['Duration', 'Start date', 'End date', 'Start station number', 'Start station', 'End station number', 'End station', 'Bike number', 'Member type'] \n",
      "\n",
      "data\\201905-capitalbikeshare-tripdata.csv ['Duration', 'Start date', 'End date', 'Start station number', 'Start station', 'End station number', 'End station', 'Bike number', 'Member type'] \n",
      "\n",
      "data\\201906-capitalbikeshare-tripdata.csv ['Duration', 'Start date', 'End date', 'Start station number', 'Start station', 'End station number', 'End station', 'Bike number', 'Member type'] \n",
      "\n",
      "data\\201907-capitalbikeshare-tripdata.csv ['Duration', 'Start date', 'End date', 'Start station number', 'Start station', 'End station number', 'End station', 'Bike number', 'Member type'] \n",
      "\n",
      "data\\201908-capitalbikeshare-tripdata.csv ['Duration', 'Start date', 'End date', 'Start station number', 'Start station', 'End station number', 'End station', 'Bike number', 'Member type'] \n",
      "\n",
      "data\\201909-capitalbikeshare-tripdata.csv ['Duration', 'Start date', 'End date', 'Start station number', 'Start station', 'End station number', 'End station', 'Bike number', 'Member type'] \n",
      "\n",
      "data\\201910-capitalbikeshare-tripdata.csv ['Duration', 'Start date', 'End date', 'Start station number', 'Start station', 'End station number', 'End station', 'Bike number', 'Member type'] \n",
      "\n",
      "data\\201911-capitalbikeshare-tripdata.csv ['Duration', 'Start date', 'End date', 'Start station number', 'Start station', 'End station number', 'End station', 'Bike number', 'Member type'] \n",
      "\n",
      "data\\201912-capitalbikeshare-tripdata.csv ['Duration', 'Start date', 'End date', 'Start station number', 'Start station', 'End station number', 'End station', 'Bike number', 'Member type'] \n",
      "\n",
      "data\\202001-capitalbikeshare-tripdata.csv ['Duration', 'Start date', 'End date', 'Start station number', 'Start station', 'End station number', 'End station', 'Bike number', 'Member type'] \n",
      "\n",
      "data\\202002-capitalbikeshare-tripdata.csv ['Duration', 'Start date', 'End date', 'Start station number', 'Start station', 'End station number', 'End station', 'Bike number', 'Member type'] \n",
      "\n",
      "data\\202003-capitalbikeshare-tripdata.csv ['Duration', 'Start date', 'End date', 'Start station number', 'Start station', 'End station number', 'End station', 'Bike number', 'Member type'] \n",
      "\n",
      "data\\202004-capitalbikeshare-tripdata.csv ['ride_id', 'rideable_type', 'started_at', 'ended_at', 'start_station_name', 'start_station_id', 'end_station_name', 'end_station_id', 'start_lat', 'start_lng', 'end_lat', 'end_lng', 'member_casual'] \n",
      "\n",
      "data\\202005-capitalbikeshare-tripdata.csv ['ride_id', 'rideable_type', 'started_at', 'ended_at', 'start_station_name', 'start_station_id', 'end_station_name', 'end_station_id', 'start_lat', 'start_lng', 'end_lat', 'end_lng', 'member_casual', 'is_equity'] \n",
      "\n",
      "data\\202006-capitalbikeshare-tripdata.csv ['ride_id', 'rideable_type', 'started_at', 'ended_at', 'start_station_name', 'start_station_id', 'end_station_name', 'end_station_id', 'start_lat', 'start_lng', 'end_lat', 'end_lng', 'member_casual'] \n",
      "\n",
      "data\\202007-capitalbikeshare-tripdata.csv ['ride_id', 'rideable_type', 'started_at', 'ended_at', 'start_station_name', 'start_station_id', 'end_station_name', 'end_station_id', 'start_lat', 'start_lng', 'end_lat', 'end_lng', 'member_casual'] \n",
      "\n",
      "data\\202008-capitalbikeshare-tripdata.csv ['ride_id', 'rideable_type', 'started_at', 'ended_at', 'start_station_name', 'start_station_id', 'end_station_name', 'end_station_id', 'start_lat', 'start_lng', 'end_lat', 'end_lng', 'member_casual'] \n",
      "\n",
      "data\\202009-capitalbikeshare-tripdata.csv ['ride_id', 'rideable_type', 'started_at', 'ended_at', 'start_station_name', 'start_station_id', 'end_station_name', 'end_station_id', 'start_lat', 'start_lng', 'end_lat', 'end_lng', 'member_casual'] \n",
      "\n",
      "data\\202010-capitalbikeshare-tripdata.csv ['ride_id', 'rideable_type', 'started_at', 'ended_at', 'start_station_name', 'start_station_id', 'end_station_name', 'end_station_id', 'start_lat', 'start_lng', 'end_lat', 'end_lng', 'member_casual'] \n",
      "\n",
      "data\\202011-capitalbikeshare-tripdata.csv ['ride_id', 'rideable_type', 'started_at', 'ended_at', 'start_station_name', 'start_station_id', 'end_station_name', 'end_station_id', 'start_lat', 'start_lng', 'end_lat', 'end_lng', 'member_casual'] \n",
      "\n"
     ]
    }
   ],
   "source": [
    "filenames = glob.glob('data/raw/*.csv') \n",
    "\n",
    "#The column names change after a certain point, have to find when the columns change\n",
    "\n",
    "for file in filenames:\n",
    "    with open(file, newline = '') as f:\n",
    "        reader = csv.reader(f)\n",
    "        columns = next(reader)\n",
    "        print(file, columns, '\\n')"
   ]
  },
  {
   "cell_type": "markdown",
   "metadata": {},
   "source": [
    "Column names change starting with `202003-capitalbikeshare-tripdata.csv`. To merge all these files into one with same column names, they will first be loaded into two different dataframes and columns will be dropped/renamed so that they can both be merged into one final dataframe.\n",
    "\n",
    "For datasets `2010-capitalbikeshare-tripdata.csv` to `202003-capitalbikeshare-tripdata.csv` the following changes will be made:\n",
    "* `Start Date` -> `started_at`\n",
    "* `End date` -> `ended_at`\n",
    "* `Start station` -> `start_station_name`\n",
    "* `Start station number` -> `start_station_id`\n",
    "* `End station` -> `end_station_name`\n",
    "* `End station number` -> `end_station_id`\n",
    "* `Bike number` dropped (doesn't exist in recent datasets)\n",
    "* `Member type` -> `member_casual`\n",
    "\n",
    "For datasets `202004-capitalbikeshare-tripdata.csv` and onwards, the following changes will be made:\n",
    "* `ride_id` -> dropped\n",
    "* `start_station_id` -> dropped\n",
    "* `end_station_id` -> dropped"
   ]
  },
  {
   "cell_type": "markdown",
   "metadata": {},
   "source": [
    "### Import datasets into two separate dataframes"
   ]
  },
  {
   "cell_type": "code",
   "execution_count": 3,
   "metadata": {
    "ExecuteTime": {
     "end_time": "2020-12-22T04:38:52.537273Z",
     "start_time": "2020-12-22T04:38:01.943533Z"
    }
   },
   "outputs": [
    {
     "data": {
      "text/html": [
       "<div>\n",
       "<style scoped>\n",
       "    .dataframe tbody tr th:only-of-type {\n",
       "        vertical-align: middle;\n",
       "    }\n",
       "\n",
       "    .dataframe tbody tr th {\n",
       "        vertical-align: top;\n",
       "    }\n",
       "\n",
       "    .dataframe thead th {\n",
       "        text-align: right;\n",
       "    }\n",
       "</style>\n",
       "<table border=\"1\" class=\"dataframe\">\n",
       "  <thead>\n",
       "    <tr style=\"text-align: right;\">\n",
       "      <th></th>\n",
       "      <th>duration</th>\n",
       "      <th>started_at</th>\n",
       "      <th>ended_at</th>\n",
       "      <th>start_station_id</th>\n",
       "      <th>start_station_name</th>\n",
       "      <th>end_station_id</th>\n",
       "      <th>end_station_name</th>\n",
       "      <th>bike_number</th>\n",
       "      <th>member_casual</th>\n",
       "    </tr>\n",
       "  </thead>\n",
       "  <tbody>\n",
       "    <tr>\n",
       "      <th>0</th>\n",
       "      <td>1012</td>\n",
       "      <td>2010-09-20 11:27:04</td>\n",
       "      <td>2010-09-20 11:43:56</td>\n",
       "      <td>31208</td>\n",
       "      <td>M St &amp; New Jersey Ave SE</td>\n",
       "      <td>31108</td>\n",
       "      <td>4th &amp; M St SW</td>\n",
       "      <td>W00742</td>\n",
       "      <td>Member</td>\n",
       "    </tr>\n",
       "    <tr>\n",
       "      <th>1</th>\n",
       "      <td>61</td>\n",
       "      <td>2010-09-20 11:41:22</td>\n",
       "      <td>2010-09-20 11:42:23</td>\n",
       "      <td>31209</td>\n",
       "      <td>1st &amp; N St  SE</td>\n",
       "      <td>31209</td>\n",
       "      <td>1st &amp; N St  SE</td>\n",
       "      <td>W00032</td>\n",
       "      <td>Member</td>\n",
       "    </tr>\n",
       "    <tr>\n",
       "      <th>2</th>\n",
       "      <td>2690</td>\n",
       "      <td>2010-09-20 12:05:37</td>\n",
       "      <td>2010-09-20 12:50:27</td>\n",
       "      <td>31600</td>\n",
       "      <td>5th &amp; K St NW</td>\n",
       "      <td>31100</td>\n",
       "      <td>19th St &amp; Pennsylvania Ave NW</td>\n",
       "      <td>W00993</td>\n",
       "      <td>Member</td>\n",
       "    </tr>\n",
       "    <tr>\n",
       "      <th>3</th>\n",
       "      <td>1406</td>\n",
       "      <td>2010-09-20 12:06:05</td>\n",
       "      <td>2010-09-20 12:29:32</td>\n",
       "      <td>31600</td>\n",
       "      <td>5th &amp; K St NW</td>\n",
       "      <td>31602</td>\n",
       "      <td>Park Rd &amp; Holmead Pl NW</td>\n",
       "      <td>W00344</td>\n",
       "      <td>Member</td>\n",
       "    </tr>\n",
       "    <tr>\n",
       "      <th>4</th>\n",
       "      <td>1413</td>\n",
       "      <td>2010-09-20 12:10:43</td>\n",
       "      <td>2010-09-20 12:34:17</td>\n",
       "      <td>31100</td>\n",
       "      <td>19th St &amp; Pennsylvania Ave NW</td>\n",
       "      <td>31201</td>\n",
       "      <td>15th &amp; P St NW</td>\n",
       "      <td>W00883</td>\n",
       "      <td>Member</td>\n",
       "    </tr>\n",
       "  </tbody>\n",
       "</table>\n",
       "</div>"
      ],
      "text/plain": [
       "   duration           started_at             ended_at  start_station_id  \\\n",
       "0      1012  2010-09-20 11:27:04  2010-09-20 11:43:56             31208   \n",
       "1        61  2010-09-20 11:41:22  2010-09-20 11:42:23             31209   \n",
       "2      2690  2010-09-20 12:05:37  2010-09-20 12:50:27             31600   \n",
       "3      1406  2010-09-20 12:06:05  2010-09-20 12:29:32             31600   \n",
       "4      1413  2010-09-20 12:10:43  2010-09-20 12:34:17             31100   \n",
       "\n",
       "              start_station_name  end_station_id  \\\n",
       "0       M St & New Jersey Ave SE           31108   \n",
       "1                 1st & N St  SE           31209   \n",
       "2                  5th & K St NW           31100   \n",
       "3                  5th & K St NW           31602   \n",
       "4  19th St & Pennsylvania Ave NW           31201   \n",
       "\n",
       "                end_station_name bike_number member_casual  \n",
       "0                  4th & M St SW      W00742        Member  \n",
       "1                 1st & N St  SE      W00032        Member  \n",
       "2  19th St & Pennsylvania Ave NW      W00993        Member  \n",
       "3        Park Rd & Holmead Pl NW      W00344        Member  \n",
       "4                 15th & P St NW      W00883        Member  "
      ]
     },
     "execution_count": 3,
     "metadata": {},
     "output_type": "execute_result"
    }
   ],
   "source": [
    "filenames[:-8]\n",
    "\n",
    "dfs = []\n",
    "\n",
    "cols = ['duration', 'started_at', 'ended_at', 'start_station_id', 'start_station_name', 'end_station_id', 'end_station_name', 'bike_number', 'member_casual']\n",
    "\n",
    "for file in filenames[:-8]:\n",
    "    tmp = pd.read_csv(file, index_col = None, names = cols, header = 0)\n",
    "    dfs.append(tmp)\n",
    "    \n",
    "df1 = pd.concat(dfs, axis=0, ignore_index = True)\n",
    "\n",
    "df1.head()"
   ]
  },
  {
   "cell_type": "code",
   "execution_count": 4,
   "metadata": {
    "ExecuteTime": {
     "end_time": "2020-12-22T04:38:52.553286Z",
     "start_time": "2020-12-22T04:38:52.538273Z"
    }
   },
   "outputs": [
    {
     "data": {
      "text/plain": [
       "(26596144, 9)"
      ]
     },
     "execution_count": 4,
     "metadata": {},
     "output_type": "execute_result"
    }
   ],
   "source": [
    "df1.shape"
   ]
  },
  {
   "cell_type": "code",
   "execution_count": 5,
   "metadata": {
    "ExecuteTime": {
     "end_time": "2020-12-22T04:38:56.646051Z",
     "start_time": "2020-12-22T04:38:52.555272Z"
    }
   },
   "outputs": [
    {
     "name": "stdout",
     "output_type": "stream",
     "text": [
      "<class 'pandas.core.frame.DataFrame'>\n",
      "RangeIndex: 26596144 entries, 0 to 26596143\n",
      "Data columns (total 9 columns):\n",
      " #   Column              Dtype \n",
      "---  ------              ----- \n",
      " 0   duration            int64 \n",
      " 1   started_at          object\n",
      " 2   ended_at            object\n",
      " 3   start_station_id    int64 \n",
      " 4   start_station_name  object\n",
      " 5   end_station_id      int64 \n",
      " 6   end_station_name    object\n",
      " 7   bike_number         object\n",
      " 8   member_casual       object\n",
      "dtypes: int64(3), object(6)\n",
      "memory usage: 1.8+ GB\n"
     ]
    }
   ],
   "source": [
    "df1.info()"
   ]
  },
  {
   "cell_type": "code",
   "execution_count": 6,
   "metadata": {
    "ExecuteTime": {
     "end_time": "2020-12-22T04:39:02.268871Z",
     "start_time": "2020-12-22T04:38:56.647040Z"
    }
   },
   "outputs": [
    {
     "data": {
      "text/plain": [
       "duration               0\n",
       "started_at             0\n",
       "ended_at               0\n",
       "start_station_id       0\n",
       "start_station_name     0\n",
       "end_station_id         0\n",
       "end_station_name       0\n",
       "bike_number           14\n",
       "member_casual          0\n",
       "dtype: int64"
      ]
     },
     "execution_count": 6,
     "metadata": {},
     "output_type": "execute_result"
    }
   ],
   "source": [
    "df1.isna().sum() #Thankfully only 14 null values in 'bike_number', which will be dropped anyway"
   ]
  },
  {
   "cell_type": "code",
   "execution_count": 7,
   "metadata": {
    "ExecuteTime": {
     "end_time": "2020-12-22T04:39:04.224811Z",
     "start_time": "2020-12-22T04:39:02.271871Z"
    }
   },
   "outputs": [],
   "source": [
    "df1.drop(['bike_number', 'start_station_id', 'end_station_id'], axis = 1, inplace = True)"
   ]
  },
  {
   "cell_type": "code",
   "execution_count": 8,
   "metadata": {
    "ExecuteTime": {
     "end_time": "2020-12-22T04:39:09.850935Z",
     "start_time": "2020-12-22T04:39:04.226812Z"
    }
   },
   "outputs": [],
   "source": [
    "dfs = []\n",
    "for file in filenames[-8:]:\n",
    "    tmp = pd.read_csv(file, header = 0, index_col = None, )\n",
    "    dfs.append(tmp)\n",
    "    \n",
    "df2 = pd.concat(dfs, axis=0, ignore_index = True)"
   ]
  },
  {
   "cell_type": "code",
   "execution_count": 9,
   "metadata": {
    "ExecuteTime": {
     "end_time": "2020-12-22T04:39:09.897909Z",
     "start_time": "2020-12-22T04:39:09.851910Z"
    }
   },
   "outputs": [
    {
     "data": {
      "text/html": [
       "<div>\n",
       "<style scoped>\n",
       "    .dataframe tbody tr th:only-of-type {\n",
       "        vertical-align: middle;\n",
       "    }\n",
       "\n",
       "    .dataframe tbody tr th {\n",
       "        vertical-align: top;\n",
       "    }\n",
       "\n",
       "    .dataframe thead th {\n",
       "        text-align: right;\n",
       "    }\n",
       "</style>\n",
       "<table border=\"1\" class=\"dataframe\">\n",
       "  <thead>\n",
       "    <tr style=\"text-align: right;\">\n",
       "      <th></th>\n",
       "      <th>ride_id</th>\n",
       "      <th>rideable_type</th>\n",
       "      <th>started_at</th>\n",
       "      <th>ended_at</th>\n",
       "      <th>start_station_name</th>\n",
       "      <th>start_station_id</th>\n",
       "      <th>end_station_name</th>\n",
       "      <th>end_station_id</th>\n",
       "      <th>start_lat</th>\n",
       "      <th>start_lng</th>\n",
       "      <th>end_lat</th>\n",
       "      <th>end_lng</th>\n",
       "      <th>member_casual</th>\n",
       "      <th>is_equity</th>\n",
       "    </tr>\n",
       "  </thead>\n",
       "  <tbody>\n",
       "    <tr>\n",
       "      <th>0</th>\n",
       "      <td>495C10604A58ACA9</td>\n",
       "      <td>docked_bike</td>\n",
       "      <td>2020-04-27 10:33:08</td>\n",
       "      <td>2020-04-27 10:53:26</td>\n",
       "      <td>4th &amp; M St SW</td>\n",
       "      <td>21.0</td>\n",
       "      <td>New York Ave &amp; 15th St NW</td>\n",
       "      <td>124.0</td>\n",
       "      <td>38.8767</td>\n",
       "      <td>-77.0178</td>\n",
       "      <td>38.8990</td>\n",
       "      <td>-77.0334</td>\n",
       "      <td>member</td>\n",
       "      <td>NaN</td>\n",
       "    </tr>\n",
       "    <tr>\n",
       "      <th>1</th>\n",
       "      <td>08A5138C88D182A5</td>\n",
       "      <td>docked_bike</td>\n",
       "      <td>2020-04-27 11:20:07</td>\n",
       "      <td>2020-04-27 11:42:55</td>\n",
       "      <td>17th &amp; K St NW</td>\n",
       "      <td>100.0</td>\n",
       "      <td>4th &amp; M St SW</td>\n",
       "      <td>21.0</td>\n",
       "      <td>38.9028</td>\n",
       "      <td>-77.0386</td>\n",
       "      <td>38.8767</td>\n",
       "      <td>-77.0178</td>\n",
       "      <td>member</td>\n",
       "      <td>NaN</td>\n",
       "    </tr>\n",
       "    <tr>\n",
       "      <th>2</th>\n",
       "      <td>505E308BDCA9C792</td>\n",
       "      <td>docked_bike</td>\n",
       "      <td>2020-04-27 09:45:45</td>\n",
       "      <td>2020-04-27 09:54:32</td>\n",
       "      <td>1st &amp; M St SE</td>\n",
       "      <td>578.0</td>\n",
       "      <td>4th &amp; M St SW</td>\n",
       "      <td>21.0</td>\n",
       "      <td>38.8769</td>\n",
       "      <td>-77.0061</td>\n",
       "      <td>38.8767</td>\n",
       "      <td>-77.0178</td>\n",
       "      <td>member</td>\n",
       "      <td>NaN</td>\n",
       "    </tr>\n",
       "    <tr>\n",
       "      <th>3</th>\n",
       "      <td>D3436FC6CCF04110</td>\n",
       "      <td>docked_bike</td>\n",
       "      <td>2020-04-14 13:16:54</td>\n",
       "      <td>2020-04-14 13:28:59</td>\n",
       "      <td>11th &amp; Kenyon St NW</td>\n",
       "      <td>15.0</td>\n",
       "      <td>Thomas Circle</td>\n",
       "      <td>178.0</td>\n",
       "      <td>38.9295</td>\n",
       "      <td>-77.0278</td>\n",
       "      <td>38.9059</td>\n",
       "      <td>-77.0325</td>\n",
       "      <td>casual</td>\n",
       "      <td>NaN</td>\n",
       "    </tr>\n",
       "    <tr>\n",
       "      <th>4</th>\n",
       "      <td>37B8457C89257BD5</td>\n",
       "      <td>docked_bike</td>\n",
       "      <td>2020-04-19 20:42:25</td>\n",
       "      <td>2020-04-19 20:51:12</td>\n",
       "      <td>13th &amp; H St NE</td>\n",
       "      <td>97.0</td>\n",
       "      <td>Eastern Market / 7th &amp; North Carolina Ave SE</td>\n",
       "      <td>96.0</td>\n",
       "      <td>38.9004</td>\n",
       "      <td>-76.9883</td>\n",
       "      <td>38.8870</td>\n",
       "      <td>-76.9968</td>\n",
       "      <td>member</td>\n",
       "      <td>NaN</td>\n",
       "    </tr>\n",
       "  </tbody>\n",
       "</table>\n",
       "</div>"
      ],
      "text/plain": [
       "            ride_id rideable_type           started_at             ended_at  \\\n",
       "0  495C10604A58ACA9   docked_bike  2020-04-27 10:33:08  2020-04-27 10:53:26   \n",
       "1  08A5138C88D182A5   docked_bike  2020-04-27 11:20:07  2020-04-27 11:42:55   \n",
       "2  505E308BDCA9C792   docked_bike  2020-04-27 09:45:45  2020-04-27 09:54:32   \n",
       "3  D3436FC6CCF04110   docked_bike  2020-04-14 13:16:54  2020-04-14 13:28:59   \n",
       "4  37B8457C89257BD5   docked_bike  2020-04-19 20:42:25  2020-04-19 20:51:12   \n",
       "\n",
       "    start_station_name  start_station_id  \\\n",
       "0        4th & M St SW              21.0   \n",
       "1       17th & K St NW             100.0   \n",
       "2        1st & M St SE             578.0   \n",
       "3  11th & Kenyon St NW              15.0   \n",
       "4       13th & H St NE              97.0   \n",
       "\n",
       "                               end_station_name  end_station_id  start_lat  \\\n",
       "0                     New York Ave & 15th St NW           124.0    38.8767   \n",
       "1                                 4th & M St SW            21.0    38.9028   \n",
       "2                                 4th & M St SW            21.0    38.8769   \n",
       "3                                 Thomas Circle           178.0    38.9295   \n",
       "4  Eastern Market / 7th & North Carolina Ave SE            96.0    38.9004   \n",
       "\n",
       "   start_lng  end_lat  end_lng member_casual is_equity  \n",
       "0   -77.0178  38.8990 -77.0334        member       NaN  \n",
       "1   -77.0386  38.8767 -77.0178        member       NaN  \n",
       "2   -77.0061  38.8767 -77.0178        member       NaN  \n",
       "3   -77.0278  38.9059 -77.0325        casual       NaN  \n",
       "4   -76.9883  38.8870 -76.9968        member       NaN  "
      ]
     },
     "execution_count": 9,
     "metadata": {},
     "output_type": "execute_result"
    }
   ],
   "source": [
    "df2.head()"
   ]
  },
  {
   "cell_type": "code",
   "execution_count": 10,
   "metadata": {
    "ExecuteTime": {
     "end_time": "2020-12-22T04:39:09.994019Z",
     "start_time": "2020-12-22T04:39:09.899909Z"
    }
   },
   "outputs": [
    {
     "data": {
      "text/plain": [
       "array([nan, False, True], dtype=object)"
      ]
     },
     "execution_count": 10,
     "metadata": {},
     "output_type": "execute_result"
    }
   ],
   "source": [
    "# There is a column 'is_equity' that is not listed or described on the official Capital BikeShare website\n",
    "# This column will be removed.\n",
    "df2['is_equity'].unique()"
   ]
  },
  {
   "cell_type": "code",
   "execution_count": 11,
   "metadata": {
    "ExecuteTime": {
     "end_time": "2020-12-22T04:39:10.489992Z",
     "start_time": "2020-12-22T04:39:09.995992Z"
    }
   },
   "outputs": [
    {
     "data": {
      "text/html": [
       "<div>\n",
       "<style scoped>\n",
       "    .dataframe tbody tr th:only-of-type {\n",
       "        vertical-align: middle;\n",
       "    }\n",
       "\n",
       "    .dataframe tbody tr th {\n",
       "        vertical-align: top;\n",
       "    }\n",
       "\n",
       "    .dataframe thead th {\n",
       "        text-align: right;\n",
       "    }\n",
       "</style>\n",
       "<table border=\"1\" class=\"dataframe\">\n",
       "  <thead>\n",
       "    <tr style=\"text-align: right;\">\n",
       "      <th></th>\n",
       "      <th>rideable_type</th>\n",
       "      <th>started_at</th>\n",
       "      <th>ended_at</th>\n",
       "      <th>start_station_name</th>\n",
       "      <th>start_station_id</th>\n",
       "      <th>end_station_name</th>\n",
       "      <th>end_station_id</th>\n",
       "      <th>start_lat</th>\n",
       "      <th>start_lng</th>\n",
       "      <th>end_lat</th>\n",
       "      <th>end_lng</th>\n",
       "      <th>member_casual</th>\n",
       "    </tr>\n",
       "  </thead>\n",
       "  <tbody>\n",
       "    <tr>\n",
       "      <th>0</th>\n",
       "      <td>docked_bike</td>\n",
       "      <td>2020-04-27 10:33:08</td>\n",
       "      <td>2020-04-27 10:53:26</td>\n",
       "      <td>4th &amp; M St SW</td>\n",
       "      <td>21.0</td>\n",
       "      <td>New York Ave &amp; 15th St NW</td>\n",
       "      <td>124.0</td>\n",
       "      <td>38.8767</td>\n",
       "      <td>-77.0178</td>\n",
       "      <td>38.8990</td>\n",
       "      <td>-77.0334</td>\n",
       "      <td>member</td>\n",
       "    </tr>\n",
       "    <tr>\n",
       "      <th>1</th>\n",
       "      <td>docked_bike</td>\n",
       "      <td>2020-04-27 11:20:07</td>\n",
       "      <td>2020-04-27 11:42:55</td>\n",
       "      <td>17th &amp; K St NW</td>\n",
       "      <td>100.0</td>\n",
       "      <td>4th &amp; M St SW</td>\n",
       "      <td>21.0</td>\n",
       "      <td>38.9028</td>\n",
       "      <td>-77.0386</td>\n",
       "      <td>38.8767</td>\n",
       "      <td>-77.0178</td>\n",
       "      <td>member</td>\n",
       "    </tr>\n",
       "    <tr>\n",
       "      <th>2</th>\n",
       "      <td>docked_bike</td>\n",
       "      <td>2020-04-27 09:45:45</td>\n",
       "      <td>2020-04-27 09:54:32</td>\n",
       "      <td>1st &amp; M St SE</td>\n",
       "      <td>578.0</td>\n",
       "      <td>4th &amp; M St SW</td>\n",
       "      <td>21.0</td>\n",
       "      <td>38.8769</td>\n",
       "      <td>-77.0061</td>\n",
       "      <td>38.8767</td>\n",
       "      <td>-77.0178</td>\n",
       "      <td>member</td>\n",
       "    </tr>\n",
       "    <tr>\n",
       "      <th>3</th>\n",
       "      <td>docked_bike</td>\n",
       "      <td>2020-04-14 13:16:54</td>\n",
       "      <td>2020-04-14 13:28:59</td>\n",
       "      <td>11th &amp; Kenyon St NW</td>\n",
       "      <td>15.0</td>\n",
       "      <td>Thomas Circle</td>\n",
       "      <td>178.0</td>\n",
       "      <td>38.9295</td>\n",
       "      <td>-77.0278</td>\n",
       "      <td>38.9059</td>\n",
       "      <td>-77.0325</td>\n",
       "      <td>casual</td>\n",
       "    </tr>\n",
       "    <tr>\n",
       "      <th>4</th>\n",
       "      <td>docked_bike</td>\n",
       "      <td>2020-04-19 20:42:25</td>\n",
       "      <td>2020-04-19 20:51:12</td>\n",
       "      <td>13th &amp; H St NE</td>\n",
       "      <td>97.0</td>\n",
       "      <td>Eastern Market / 7th &amp; North Carolina Ave SE</td>\n",
       "      <td>96.0</td>\n",
       "      <td>38.9004</td>\n",
       "      <td>-76.9883</td>\n",
       "      <td>38.8870</td>\n",
       "      <td>-76.9968</td>\n",
       "      <td>member</td>\n",
       "    </tr>\n",
       "  </tbody>\n",
       "</table>\n",
       "</div>"
      ],
      "text/plain": [
       "  rideable_type           started_at             ended_at  \\\n",
       "0   docked_bike  2020-04-27 10:33:08  2020-04-27 10:53:26   \n",
       "1   docked_bike  2020-04-27 11:20:07  2020-04-27 11:42:55   \n",
       "2   docked_bike  2020-04-27 09:45:45  2020-04-27 09:54:32   \n",
       "3   docked_bike  2020-04-14 13:16:54  2020-04-14 13:28:59   \n",
       "4   docked_bike  2020-04-19 20:42:25  2020-04-19 20:51:12   \n",
       "\n",
       "    start_station_name  start_station_id  \\\n",
       "0        4th & M St SW              21.0   \n",
       "1       17th & K St NW             100.0   \n",
       "2        1st & M St SE             578.0   \n",
       "3  11th & Kenyon St NW              15.0   \n",
       "4       13th & H St NE              97.0   \n",
       "\n",
       "                               end_station_name  end_station_id  start_lat  \\\n",
       "0                     New York Ave & 15th St NW           124.0    38.8767   \n",
       "1                                 4th & M St SW            21.0    38.9028   \n",
       "2                                 4th & M St SW            21.0    38.8769   \n",
       "3                                 Thomas Circle           178.0    38.9295   \n",
       "4  Eastern Market / 7th & North Carolina Ave SE            96.0    38.9004   \n",
       "\n",
       "   start_lng  end_lat  end_lng member_casual  \n",
       "0   -77.0178  38.8990 -77.0334        member  \n",
       "1   -77.0386  38.8767 -77.0178        member  \n",
       "2   -77.0061  38.8767 -77.0178        member  \n",
       "3   -77.0278  38.9059 -77.0325        casual  \n",
       "4   -76.9883  38.8870 -76.9968        member  "
      ]
     },
     "execution_count": 11,
     "metadata": {},
     "output_type": "execute_result"
    }
   ],
   "source": [
    "df2.drop(['ride_id', 'is_equity'], axis = 1, inplace = True)\n",
    "df2.head()"
   ]
  },
  {
   "cell_type": "code",
   "execution_count": 12,
   "metadata": {
    "ExecuteTime": {
     "end_time": "2020-12-22T04:39:10.505978Z",
     "start_time": "2020-12-22T04:39:10.491977Z"
    }
   },
   "outputs": [
    {
     "data": {
      "text/plain": [
       "(1573532, 12)"
      ]
     },
     "execution_count": 12,
     "metadata": {},
     "output_type": "execute_result"
    }
   ],
   "source": [
    "df2.shape"
   ]
  },
  {
   "cell_type": "code",
   "execution_count": 13,
   "metadata": {
    "ExecuteTime": {
     "end_time": "2020-12-22T04:39:10.887966Z",
     "start_time": "2020-12-22T04:39:10.509978Z"
    }
   },
   "outputs": [
    {
     "name": "stdout",
     "output_type": "stream",
     "text": [
      "<class 'pandas.core.frame.DataFrame'>\n",
      "RangeIndex: 1573532 entries, 0 to 1573531\n",
      "Data columns (total 12 columns):\n",
      " #   Column              Non-Null Count    Dtype  \n",
      "---  ------              --------------    -----  \n",
      " 0   rideable_type       1573532 non-null  object \n",
      " 1   started_at          1573532 non-null  object \n",
      " 2   ended_at            1573532 non-null  object \n",
      " 3   start_station_name  1499953 non-null  object \n",
      " 4   start_station_id    1499953 non-null  float64\n",
      " 5   end_station_name    1488020 non-null  object \n",
      " 6   end_station_id      1488020 non-null  float64\n",
      " 7   start_lat           1573524 non-null  float64\n",
      " 8   start_lng           1573524 non-null  float64\n",
      " 9   end_lat             1566991 non-null  float64\n",
      " 10  end_lng             1566991 non-null  float64\n",
      " 11  member_casual       1573532 non-null  object \n",
      "dtypes: float64(6), object(6)\n",
      "memory usage: 144.1+ MB\n"
     ]
    }
   ],
   "source": [
    "df2.info()"
   ]
  },
  {
   "cell_type": "markdown",
   "metadata": {},
   "source": [
    "### Take care of null values"
   ]
  },
  {
   "cell_type": "code",
   "execution_count": 14,
   "metadata": {
    "ExecuteTime": {
     "end_time": "2020-12-22T04:39:11.252021Z",
     "start_time": "2020-12-22T04:39:10.888965Z"
    }
   },
   "outputs": [
    {
     "data": {
      "text/plain": [
       "rideable_type             0\n",
       "started_at                0\n",
       "ended_at                  0\n",
       "start_station_name    73579\n",
       "start_station_id      73579\n",
       "end_station_name      85512\n",
       "end_station_id        85512\n",
       "start_lat                 8\n",
       "start_lng                 8\n",
       "end_lat                6541\n",
       "end_lng                6541\n",
       "member_casual             0\n",
       "dtype: int64"
      ]
     },
     "execution_count": 14,
     "metadata": {},
     "output_type": "execute_result"
    }
   ],
   "source": [
    "df2.isna().sum()"
   ]
  },
  {
   "cell_type": "markdown",
   "metadata": {},
   "source": [
    "There's definitely a lot more null values in this dataset. Time to investigate what the issue might be."
   ]
  },
  {
   "cell_type": "code",
   "execution_count": 15,
   "metadata": {
    "ExecuteTime": {
     "end_time": "2020-12-22T04:39:11.283967Z",
     "start_time": "2020-12-22T04:39:11.253003Z"
    }
   },
   "outputs": [
    {
     "data": {
      "text/html": [
       "<div>\n",
       "<style scoped>\n",
       "    .dataframe tbody tr th:only-of-type {\n",
       "        vertical-align: middle;\n",
       "    }\n",
       "\n",
       "    .dataframe tbody tr th {\n",
       "        vertical-align: top;\n",
       "    }\n",
       "\n",
       "    .dataframe thead th {\n",
       "        text-align: right;\n",
       "    }\n",
       "</style>\n",
       "<table border=\"1\" class=\"dataframe\">\n",
       "  <thead>\n",
       "    <tr style=\"text-align: right;\">\n",
       "      <th></th>\n",
       "      <th>rideable_type</th>\n",
       "      <th>started_at</th>\n",
       "      <th>ended_at</th>\n",
       "      <th>start_station_name</th>\n",
       "      <th>start_station_id</th>\n",
       "      <th>end_station_name</th>\n",
       "      <th>end_station_id</th>\n",
       "      <th>start_lat</th>\n",
       "      <th>start_lng</th>\n",
       "      <th>end_lat</th>\n",
       "      <th>end_lng</th>\n",
       "      <th>member_casual</th>\n",
       "    </tr>\n",
       "  </thead>\n",
       "  <tbody>\n",
       "    <tr>\n",
       "      <th>655851</th>\n",
       "      <td>docked_bike</td>\n",
       "      <td>2020-07-29 11:19:11</td>\n",
       "      <td>2020-07-29 11:23:21</td>\n",
       "      <td>Motivate Tech Office</td>\n",
       "      <td>285.0</td>\n",
       "      <td>Motivate BX Tech office</td>\n",
       "      <td>283.0</td>\n",
       "      <td>NaN</td>\n",
       "      <td>NaN</td>\n",
       "      <td>38.964406</td>\n",
       "      <td>-77.010759</td>\n",
       "      <td>member</td>\n",
       "    </tr>\n",
       "    <tr>\n",
       "      <th>853971</th>\n",
       "      <td>docked_bike</td>\n",
       "      <td>2020-08-12 11:40:29</td>\n",
       "      <td>2020-08-12 11:40:36</td>\n",
       "      <td>Motivate Tech Office</td>\n",
       "      <td>285.0</td>\n",
       "      <td>Motivate Tech Office</td>\n",
       "      <td>285.0</td>\n",
       "      <td>NaN</td>\n",
       "      <td>NaN</td>\n",
       "      <td>NaN</td>\n",
       "      <td>NaN</td>\n",
       "      <td>member</td>\n",
       "    </tr>\n",
       "    <tr>\n",
       "      <th>853972</th>\n",
       "      <td>docked_bike</td>\n",
       "      <td>2020-08-12 12:17:04</td>\n",
       "      <td>2020-08-12 12:17:08</td>\n",
       "      <td>Motivate Tech Office</td>\n",
       "      <td>285.0</td>\n",
       "      <td>Motivate Tech Office</td>\n",
       "      <td>285.0</td>\n",
       "      <td>NaN</td>\n",
       "      <td>NaN</td>\n",
       "      <td>NaN</td>\n",
       "      <td>NaN</td>\n",
       "      <td>member</td>\n",
       "    </tr>\n",
       "    <tr>\n",
       "      <th>853973</th>\n",
       "      <td>docked_bike</td>\n",
       "      <td>2020-08-12 12:02:22</td>\n",
       "      <td>2020-08-12 12:02:26</td>\n",
       "      <td>Motivate Tech Office</td>\n",
       "      <td>285.0</td>\n",
       "      <td>Motivate Tech Office</td>\n",
       "      <td>285.0</td>\n",
       "      <td>NaN</td>\n",
       "      <td>NaN</td>\n",
       "      <td>NaN</td>\n",
       "      <td>NaN</td>\n",
       "      <td>member</td>\n",
       "    </tr>\n",
       "    <tr>\n",
       "      <th>853974</th>\n",
       "      <td>docked_bike</td>\n",
       "      <td>2020-08-12 12:28:08</td>\n",
       "      <td>2020-08-12 12:28:52</td>\n",
       "      <td>Motivate Tech Office</td>\n",
       "      <td>285.0</td>\n",
       "      <td>Motivate Tech Office</td>\n",
       "      <td>285.0</td>\n",
       "      <td>NaN</td>\n",
       "      <td>NaN</td>\n",
       "      <td>NaN</td>\n",
       "      <td>NaN</td>\n",
       "      <td>member</td>\n",
       "    </tr>\n",
       "    <tr>\n",
       "      <th>853975</th>\n",
       "      <td>docked_bike</td>\n",
       "      <td>2020-08-12 11:45:01</td>\n",
       "      <td>2020-08-12 11:45:06</td>\n",
       "      <td>Motivate Tech Office</td>\n",
       "      <td>285.0</td>\n",
       "      <td>Motivate Tech Office</td>\n",
       "      <td>285.0</td>\n",
       "      <td>NaN</td>\n",
       "      <td>NaN</td>\n",
       "      <td>NaN</td>\n",
       "      <td>NaN</td>\n",
       "      <td>member</td>\n",
       "    </tr>\n",
       "    <tr>\n",
       "      <th>853976</th>\n",
       "      <td>docked_bike</td>\n",
       "      <td>2020-08-12 11:51:55</td>\n",
       "      <td>2020-08-12 11:51:58</td>\n",
       "      <td>Motivate Tech Office</td>\n",
       "      <td>285.0</td>\n",
       "      <td>Motivate Tech Office</td>\n",
       "      <td>285.0</td>\n",
       "      <td>NaN</td>\n",
       "      <td>NaN</td>\n",
       "      <td>NaN</td>\n",
       "      <td>NaN</td>\n",
       "      <td>member</td>\n",
       "    </tr>\n",
       "    <tr>\n",
       "      <th>855654</th>\n",
       "      <td>docked_bike</td>\n",
       "      <td>2020-08-10 13:18:09</td>\n",
       "      <td>2020-08-10 13:18:14</td>\n",
       "      <td>Motivate Tech Office</td>\n",
       "      <td>285.0</td>\n",
       "      <td>Motivate Tech Office</td>\n",
       "      <td>285.0</td>\n",
       "      <td>NaN</td>\n",
       "      <td>NaN</td>\n",
       "      <td>NaN</td>\n",
       "      <td>NaN</td>\n",
       "      <td>member</td>\n",
       "    </tr>\n",
       "  </tbody>\n",
       "</table>\n",
       "</div>"
      ],
      "text/plain": [
       "       rideable_type           started_at             ended_at  \\\n",
       "655851   docked_bike  2020-07-29 11:19:11  2020-07-29 11:23:21   \n",
       "853971   docked_bike  2020-08-12 11:40:29  2020-08-12 11:40:36   \n",
       "853972   docked_bike  2020-08-12 12:17:04  2020-08-12 12:17:08   \n",
       "853973   docked_bike  2020-08-12 12:02:22  2020-08-12 12:02:26   \n",
       "853974   docked_bike  2020-08-12 12:28:08  2020-08-12 12:28:52   \n",
       "853975   docked_bike  2020-08-12 11:45:01  2020-08-12 11:45:06   \n",
       "853976   docked_bike  2020-08-12 11:51:55  2020-08-12 11:51:58   \n",
       "855654   docked_bike  2020-08-10 13:18:09  2020-08-10 13:18:14   \n",
       "\n",
       "          start_station_name  start_station_id         end_station_name  \\\n",
       "655851  Motivate Tech Office             285.0  Motivate BX Tech office   \n",
       "853971  Motivate Tech Office             285.0     Motivate Tech Office   \n",
       "853972  Motivate Tech Office             285.0     Motivate Tech Office   \n",
       "853973  Motivate Tech Office             285.0     Motivate Tech Office   \n",
       "853974  Motivate Tech Office             285.0     Motivate Tech Office   \n",
       "853975  Motivate Tech Office             285.0     Motivate Tech Office   \n",
       "853976  Motivate Tech Office             285.0     Motivate Tech Office   \n",
       "855654  Motivate Tech Office             285.0     Motivate Tech Office   \n",
       "\n",
       "        end_station_id  start_lat  start_lng    end_lat    end_lng  \\\n",
       "655851           283.0        NaN        NaN  38.964406 -77.010759   \n",
       "853971           285.0        NaN        NaN        NaN        NaN   \n",
       "853972           285.0        NaN        NaN        NaN        NaN   \n",
       "853973           285.0        NaN        NaN        NaN        NaN   \n",
       "853974           285.0        NaN        NaN        NaN        NaN   \n",
       "853975           285.0        NaN        NaN        NaN        NaN   \n",
       "853976           285.0        NaN        NaN        NaN        NaN   \n",
       "855654           285.0        NaN        NaN        NaN        NaN   \n",
       "\n",
       "       member_casual  \n",
       "655851        member  \n",
       "853971        member  \n",
       "853972        member  \n",
       "853973        member  \n",
       "853974        member  \n",
       "853975        member  \n",
       "853976        member  \n",
       "855654        member  "
      ]
     },
     "execution_count": 15,
     "metadata": {},
     "output_type": "execute_result"
    }
   ],
   "source": [
    "df2[df2['start_lat'].isnull() & df2['start_lng'].isnull()]"
   ]
  },
  {
   "cell_type": "markdown",
   "metadata": {},
   "source": [
    "There were only 8 instances where the start station latitude and longitude are missing. These entries had the name of the start station 'Motivate Tech Office', however when I tried to manually look up this location on Google Maps, nothing came up."
   ]
  },
  {
   "cell_type": "code",
   "execution_count": 16,
   "metadata": {
    "ExecuteTime": {
     "end_time": "2020-12-22T04:39:11.330966Z",
     "start_time": "2020-12-22T04:39:11.284979Z"
    }
   },
   "outputs": [
    {
     "data": {
      "text/html": [
       "<div>\n",
       "<style scoped>\n",
       "    .dataframe tbody tr th:only-of-type {\n",
       "        vertical-align: middle;\n",
       "    }\n",
       "\n",
       "    .dataframe tbody tr th {\n",
       "        vertical-align: top;\n",
       "    }\n",
       "\n",
       "    .dataframe thead th {\n",
       "        text-align: right;\n",
       "    }\n",
       "</style>\n",
       "<table border=\"1\" class=\"dataframe\">\n",
       "  <thead>\n",
       "    <tr style=\"text-align: right;\">\n",
       "      <th></th>\n",
       "      <th>rideable_type</th>\n",
       "      <th>started_at</th>\n",
       "      <th>ended_at</th>\n",
       "      <th>start_station_name</th>\n",
       "      <th>start_station_id</th>\n",
       "      <th>end_station_name</th>\n",
       "      <th>end_station_id</th>\n",
       "      <th>start_lat</th>\n",
       "      <th>start_lng</th>\n",
       "      <th>end_lat</th>\n",
       "      <th>end_lng</th>\n",
       "      <th>member_casual</th>\n",
       "    </tr>\n",
       "  </thead>\n",
       "  <tbody>\n",
       "    <tr>\n",
       "      <th>90</th>\n",
       "      <td>docked_bike</td>\n",
       "      <td>2020-04-29 18:14:48</td>\n",
       "      <td>2020-04-29 18:25:28</td>\n",
       "      <td>13th &amp; D St NE</td>\n",
       "      <td>146.0</td>\n",
       "      <td>NaN</td>\n",
       "      <td>NaN</td>\n",
       "      <td>38.894800</td>\n",
       "      <td>-76.987600</td>\n",
       "      <td>NaN</td>\n",
       "      <td>NaN</td>\n",
       "      <td>casual</td>\n",
       "    </tr>\n",
       "    <tr>\n",
       "      <th>283</th>\n",
       "      <td>docked_bike</td>\n",
       "      <td>2020-04-10 16:57:46</td>\n",
       "      <td>2020-04-10 17:19:06</td>\n",
       "      <td>21st St &amp; Constitution Ave NW</td>\n",
       "      <td>173.0</td>\n",
       "      <td>NaN</td>\n",
       "      <td>NaN</td>\n",
       "      <td>38.892500</td>\n",
       "      <td>-77.046600</td>\n",
       "      <td>NaN</td>\n",
       "      <td>NaN</td>\n",
       "      <td>member</td>\n",
       "    </tr>\n",
       "    <tr>\n",
       "      <th>737</th>\n",
       "      <td>docked_bike</td>\n",
       "      <td>2020-04-04 12:37:19</td>\n",
       "      <td>2020-04-04 16:27:39</td>\n",
       "      <td>Market Square / King St &amp; Royal St</td>\n",
       "      <td>238.0</td>\n",
       "      <td>NaN</td>\n",
       "      <td>NaN</td>\n",
       "      <td>38.804700</td>\n",
       "      <td>-77.043400</td>\n",
       "      <td>NaN</td>\n",
       "      <td>NaN</td>\n",
       "      <td>casual</td>\n",
       "    </tr>\n",
       "    <tr>\n",
       "      <th>1715</th>\n",
       "      <td>docked_bike</td>\n",
       "      <td>2020-04-12 10:25:54</td>\n",
       "      <td>2020-04-13 11:25:48</td>\n",
       "      <td>8th &amp; O St NW</td>\n",
       "      <td>413.0</td>\n",
       "      <td>NaN</td>\n",
       "      <td>NaN</td>\n",
       "      <td>38.908600</td>\n",
       "      <td>-77.022800</td>\n",
       "      <td>NaN</td>\n",
       "      <td>NaN</td>\n",
       "      <td>casual</td>\n",
       "    </tr>\n",
       "    <tr>\n",
       "      <th>1739</th>\n",
       "      <td>docked_bike</td>\n",
       "      <td>2020-04-11 13:02:39</td>\n",
       "      <td>2020-04-12 13:24:25</td>\n",
       "      <td>14th &amp; Belmont St NW</td>\n",
       "      <td>81.0</td>\n",
       "      <td>NaN</td>\n",
       "      <td>NaN</td>\n",
       "      <td>38.921100</td>\n",
       "      <td>-77.031900</td>\n",
       "      <td>NaN</td>\n",
       "      <td>NaN</td>\n",
       "      <td>casual</td>\n",
       "    </tr>\n",
       "    <tr>\n",
       "      <th>...</th>\n",
       "      <td>...</td>\n",
       "      <td>...</td>\n",
       "      <td>...</td>\n",
       "      <td>...</td>\n",
       "      <td>...</td>\n",
       "      <td>...</td>\n",
       "      <td>...</td>\n",
       "      <td>...</td>\n",
       "      <td>...</td>\n",
       "      <td>...</td>\n",
       "      <td>...</td>\n",
       "      <td>...</td>\n",
       "    </tr>\n",
       "    <tr>\n",
       "      <th>1557652</th>\n",
       "      <td>docked_bike</td>\n",
       "      <td>2020-11-01 13:56:08</td>\n",
       "      <td>2020-11-02 11:23:01</td>\n",
       "      <td>20th &amp; L St NW</td>\n",
       "      <td>266.0</td>\n",
       "      <td>NaN</td>\n",
       "      <td>NaN</td>\n",
       "      <td>38.903584</td>\n",
       "      <td>-77.044789</td>\n",
       "      <td>NaN</td>\n",
       "      <td>NaN</td>\n",
       "      <td>member</td>\n",
       "    </tr>\n",
       "    <tr>\n",
       "      <th>1558002</th>\n",
       "      <td>docked_bike</td>\n",
       "      <td>2020-11-10 16:06:07</td>\n",
       "      <td>2020-11-10 16:11:52</td>\n",
       "      <td>Clarendon Blvd &amp; N Fillmore St</td>\n",
       "      <td>176.0</td>\n",
       "      <td>NaN</td>\n",
       "      <td>NaN</td>\n",
       "      <td>38.888100</td>\n",
       "      <td>-77.093080</td>\n",
       "      <td>NaN</td>\n",
       "      <td>NaN</td>\n",
       "      <td>member</td>\n",
       "    </tr>\n",
       "    <tr>\n",
       "      <th>1562902</th>\n",
       "      <td>docked_bike</td>\n",
       "      <td>2020-11-12 20:23:35</td>\n",
       "      <td>2020-11-12 20:34:14</td>\n",
       "      <td>14th &amp; Rhode Island Ave NW</td>\n",
       "      <td>27.0</td>\n",
       "      <td>NaN</td>\n",
       "      <td>NaN</td>\n",
       "      <td>38.908600</td>\n",
       "      <td>-77.032300</td>\n",
       "      <td>NaN</td>\n",
       "      <td>NaN</td>\n",
       "      <td>casual</td>\n",
       "    </tr>\n",
       "    <tr>\n",
       "      <th>1563012</th>\n",
       "      <td>docked_bike</td>\n",
       "      <td>2020-11-07 13:14:22</td>\n",
       "      <td>2020-11-07 14:13:55</td>\n",
       "      <td>New Hampshire Ave &amp; 24th St NW</td>\n",
       "      <td>382.0</td>\n",
       "      <td>NaN</td>\n",
       "      <td>NaN</td>\n",
       "      <td>38.901755</td>\n",
       "      <td>-77.051084</td>\n",
       "      <td>NaN</td>\n",
       "      <td>NaN</td>\n",
       "      <td>casual</td>\n",
       "    </tr>\n",
       "    <tr>\n",
       "      <th>1563095</th>\n",
       "      <td>docked_bike</td>\n",
       "      <td>2020-11-11 13:29:21</td>\n",
       "      <td>2020-11-11 13:37:12</td>\n",
       "      <td>12th St &amp; Pennsylvania Ave SE</td>\n",
       "      <td>497.0</td>\n",
       "      <td>NaN</td>\n",
       "      <td>NaN</td>\n",
       "      <td>38.882489</td>\n",
       "      <td>-76.990121</td>\n",
       "      <td>NaN</td>\n",
       "      <td>NaN</td>\n",
       "      <td>member</td>\n",
       "    </tr>\n",
       "  </tbody>\n",
       "</table>\n",
       "<p>6541 rows × 12 columns</p>\n",
       "</div>"
      ],
      "text/plain": [
       "        rideable_type           started_at             ended_at  \\\n",
       "90        docked_bike  2020-04-29 18:14:48  2020-04-29 18:25:28   \n",
       "283       docked_bike  2020-04-10 16:57:46  2020-04-10 17:19:06   \n",
       "737       docked_bike  2020-04-04 12:37:19  2020-04-04 16:27:39   \n",
       "1715      docked_bike  2020-04-12 10:25:54  2020-04-13 11:25:48   \n",
       "1739      docked_bike  2020-04-11 13:02:39  2020-04-12 13:24:25   \n",
       "...               ...                  ...                  ...   \n",
       "1557652   docked_bike  2020-11-01 13:56:08  2020-11-02 11:23:01   \n",
       "1558002   docked_bike  2020-11-10 16:06:07  2020-11-10 16:11:52   \n",
       "1562902   docked_bike  2020-11-12 20:23:35  2020-11-12 20:34:14   \n",
       "1563012   docked_bike  2020-11-07 13:14:22  2020-11-07 14:13:55   \n",
       "1563095   docked_bike  2020-11-11 13:29:21  2020-11-11 13:37:12   \n",
       "\n",
       "                         start_station_name  start_station_id  \\\n",
       "90                           13th & D St NE             146.0   \n",
       "283           21st St & Constitution Ave NW             173.0   \n",
       "737      Market Square / King St & Royal St             238.0   \n",
       "1715                          8th & O St NW             413.0   \n",
       "1739                   14th & Belmont St NW              81.0   \n",
       "...                                     ...               ...   \n",
       "1557652                      20th & L St NW             266.0   \n",
       "1558002      Clarendon Blvd & N Fillmore St             176.0   \n",
       "1562902          14th & Rhode Island Ave NW              27.0   \n",
       "1563012      New Hampshire Ave & 24th St NW             382.0   \n",
       "1563095       12th St & Pennsylvania Ave SE             497.0   \n",
       "\n",
       "        end_station_name  end_station_id  start_lat  start_lng  end_lat  \\\n",
       "90                   NaN             NaN  38.894800 -76.987600      NaN   \n",
       "283                  NaN             NaN  38.892500 -77.046600      NaN   \n",
       "737                  NaN             NaN  38.804700 -77.043400      NaN   \n",
       "1715                 NaN             NaN  38.908600 -77.022800      NaN   \n",
       "1739                 NaN             NaN  38.921100 -77.031900      NaN   \n",
       "...                  ...             ...        ...        ...      ...   \n",
       "1557652              NaN             NaN  38.903584 -77.044789      NaN   \n",
       "1558002              NaN             NaN  38.888100 -77.093080      NaN   \n",
       "1562902              NaN             NaN  38.908600 -77.032300      NaN   \n",
       "1563012              NaN             NaN  38.901755 -77.051084      NaN   \n",
       "1563095              NaN             NaN  38.882489 -76.990121      NaN   \n",
       "\n",
       "         end_lng member_casual  \n",
       "90           NaN        casual  \n",
       "283          NaN        member  \n",
       "737          NaN        casual  \n",
       "1715         NaN        casual  \n",
       "1739         NaN        casual  \n",
       "...          ...           ...  \n",
       "1557652      NaN        member  \n",
       "1558002      NaN        member  \n",
       "1562902      NaN        casual  \n",
       "1563012      NaN        casual  \n",
       "1563095      NaN        member  \n",
       "\n",
       "[6541 rows x 12 columns]"
      ]
     },
     "execution_count": 16,
     "metadata": {},
     "output_type": "execute_result"
    }
   ],
   "source": [
    "df2[df2['end_lat'].isnull() & df2['end_lng'].isnull()]"
   ]
  },
  {
   "cell_type": "markdown",
   "metadata": {},
   "source": [
    "Looks like a lot of the entries with missing end latitude and longitude do not have any station names or ids. Let's see if that's really the case. If they do have names or ID's, the information could be used to fill the latitude and longitudes."
   ]
  },
  {
   "cell_type": "code",
   "execution_count": 17,
   "metadata": {
    "ExecuteTime": {
     "end_time": "2020-12-22T04:39:11.361965Z",
     "start_time": "2020-12-22T04:39:11.331966Z"
    }
   },
   "outputs": [
    {
     "data": {
      "text/plain": [
       "array([ nan, 285.])"
      ]
     },
     "execution_count": 17,
     "metadata": {},
     "output_type": "execute_result"
    }
   ],
   "source": [
    "df2[df2['end_lat'].isnull() & df2['end_lng'].isnull()]['end_station_id'].unique()"
   ]
  },
  {
   "cell_type": "code",
   "execution_count": 18,
   "metadata": {
    "ExecuteTime": {
     "end_time": "2020-12-22T04:39:11.391964Z",
     "start_time": "2020-12-22T04:39:11.364965Z"
    }
   },
   "outputs": [
    {
     "data": {
      "text/plain": [
       "array([nan, 'Motivate Tech Office'], dtype=object)"
      ]
     },
     "execution_count": 18,
     "metadata": {},
     "output_type": "execute_result"
    }
   ],
   "source": [
    "df2[df2['end_lat'].isnull() & df2['end_lng'].isnull()]['end_station_name'].unique()"
   ]
  },
  {
   "cell_type": "markdown",
   "metadata": {},
   "source": [
    "It turns out that the only instances where the latitude and longitude are missing have no usable station names or ID's. These entries might be cases where people rented the bikes but never properly returned them and thus an ending station ID,name, or latitude/longitude were never recorded. We can't be entirely sure what the cause may be, therefore these entries will just be dropped."
   ]
  },
  {
   "cell_type": "code",
   "execution_count": 19,
   "metadata": {
    "ExecuteTime": {
     "end_time": "2020-12-22T04:39:11.946957Z",
     "start_time": "2020-12-22T04:39:11.392964Z"
    }
   },
   "outputs": [
    {
     "data": {
      "text/plain": [
       "rideable_type             0\n",
       "started_at                0\n",
       "ended_at                  0\n",
       "start_station_name    73579\n",
       "start_station_id      73579\n",
       "end_station_name      78978\n",
       "end_station_id        78978\n",
       "start_lat                 0\n",
       "start_lng                 0\n",
       "end_lat                   0\n",
       "end_lng                   0\n",
       "member_casual             0\n",
       "dtype: int64"
      ]
     },
     "execution_count": 19,
     "metadata": {},
     "output_type": "execute_result"
    }
   ],
   "source": [
    "df2.dropna(subset = ['start_lat', 'start_lng', 'end_lat', 'end_lng'], inplace = True)\n",
    "df2.isna().sum()"
   ]
  },
  {
   "cell_type": "code",
   "execution_count": 20,
   "metadata": {
    "ExecuteTime": {
     "end_time": "2020-12-22T04:39:12.039954Z",
     "start_time": "2020-12-22T04:39:11.948947Z"
    }
   },
   "outputs": [
    {
     "data": {
      "text/html": [
       "<div>\n",
       "<style scoped>\n",
       "    .dataframe tbody tr th:only-of-type {\n",
       "        vertical-align: middle;\n",
       "    }\n",
       "\n",
       "    .dataframe tbody tr th {\n",
       "        vertical-align: top;\n",
       "    }\n",
       "\n",
       "    .dataframe thead th {\n",
       "        text-align: right;\n",
       "    }\n",
       "</style>\n",
       "<table border=\"1\" class=\"dataframe\">\n",
       "  <thead>\n",
       "    <tr style=\"text-align: right;\">\n",
       "      <th></th>\n",
       "      <th>rideable_type</th>\n",
       "      <th>started_at</th>\n",
       "      <th>ended_at</th>\n",
       "      <th>start_station_name</th>\n",
       "      <th>start_station_id</th>\n",
       "      <th>end_station_name</th>\n",
       "      <th>end_station_id</th>\n",
       "      <th>start_lat</th>\n",
       "      <th>start_lng</th>\n",
       "      <th>end_lat</th>\n",
       "      <th>end_lng</th>\n",
       "      <th>member_casual</th>\n",
       "    </tr>\n",
       "  </thead>\n",
       "  <tbody>\n",
       "    <tr>\n",
       "      <th>244240</th>\n",
       "      <td>electric_bike</td>\n",
       "      <td>2020-06-29 15:09:52</td>\n",
       "      <td>2020-06-29 15:13:38</td>\n",
       "      <td>NaN</td>\n",
       "      <td>NaN</td>\n",
       "      <td>NaN</td>\n",
       "      <td>NaN</td>\n",
       "      <td>38.97</td>\n",
       "      <td>-77.02</td>\n",
       "      <td>38.97</td>\n",
       "      <td>-77.02</td>\n",
       "      <td>member</td>\n",
       "    </tr>\n",
       "    <tr>\n",
       "      <th>244241</th>\n",
       "      <td>electric_bike</td>\n",
       "      <td>2020-06-29 15:18:15</td>\n",
       "      <td>2020-06-29 15:26:04</td>\n",
       "      <td>NaN</td>\n",
       "      <td>NaN</td>\n",
       "      <td>NaN</td>\n",
       "      <td>NaN</td>\n",
       "      <td>38.97</td>\n",
       "      <td>-77.02</td>\n",
       "      <td>38.96</td>\n",
       "      <td>-77.01</td>\n",
       "      <td>member</td>\n",
       "    </tr>\n",
       "    <tr>\n",
       "      <th>244242</th>\n",
       "      <td>electric_bike</td>\n",
       "      <td>2020-06-29 15:03:12</td>\n",
       "      <td>2020-06-29 15:06:51</td>\n",
       "      <td>NaN</td>\n",
       "      <td>NaN</td>\n",
       "      <td>NaN</td>\n",
       "      <td>NaN</td>\n",
       "      <td>38.96</td>\n",
       "      <td>-77.01</td>\n",
       "      <td>38.97</td>\n",
       "      <td>-77.02</td>\n",
       "      <td>member</td>\n",
       "    </tr>\n",
       "    <tr>\n",
       "      <th>244243</th>\n",
       "      <td>electric_bike</td>\n",
       "      <td>2020-06-17 15:33:59</td>\n",
       "      <td>2020-06-17 15:34:55</td>\n",
       "      <td>NaN</td>\n",
       "      <td>NaN</td>\n",
       "      <td>NaN</td>\n",
       "      <td>NaN</td>\n",
       "      <td>38.96</td>\n",
       "      <td>-77.01</td>\n",
       "      <td>38.96</td>\n",
       "      <td>-77.01</td>\n",
       "      <td>member</td>\n",
       "    </tr>\n",
       "    <tr>\n",
       "      <th>244244</th>\n",
       "      <td>electric_bike</td>\n",
       "      <td>2020-06-17 14:53:21</td>\n",
       "      <td>2020-06-17 14:58:11</td>\n",
       "      <td>NaN</td>\n",
       "      <td>NaN</td>\n",
       "      <td>NaN</td>\n",
       "      <td>NaN</td>\n",
       "      <td>38.96</td>\n",
       "      <td>-77.01</td>\n",
       "      <td>38.96</td>\n",
       "      <td>-77.01</td>\n",
       "      <td>member</td>\n",
       "    </tr>\n",
       "    <tr>\n",
       "      <th>...</th>\n",
       "      <td>...</td>\n",
       "      <td>...</td>\n",
       "      <td>...</td>\n",
       "      <td>...</td>\n",
       "      <td>...</td>\n",
       "      <td>...</td>\n",
       "      <td>...</td>\n",
       "      <td>...</td>\n",
       "      <td>...</td>\n",
       "      <td>...</td>\n",
       "      <td>...</td>\n",
       "      <td>...</td>\n",
       "    </tr>\n",
       "    <tr>\n",
       "      <th>1573510</th>\n",
       "      <td>electric_bike</td>\n",
       "      <td>2020-11-24 11:56:43</td>\n",
       "      <td>2020-11-24 12:26:41</td>\n",
       "      <td>NaN</td>\n",
       "      <td>NaN</td>\n",
       "      <td>NaN</td>\n",
       "      <td>NaN</td>\n",
       "      <td>38.93</td>\n",
       "      <td>-77.03</td>\n",
       "      <td>38.93</td>\n",
       "      <td>-77.03</td>\n",
       "      <td>casual</td>\n",
       "    </tr>\n",
       "    <tr>\n",
       "      <th>1573527</th>\n",
       "      <td>electric_bike</td>\n",
       "      <td>2020-11-10 11:10:51</td>\n",
       "      <td>2020-11-10 11:55:07</td>\n",
       "      <td>NaN</td>\n",
       "      <td>NaN</td>\n",
       "      <td>NaN</td>\n",
       "      <td>NaN</td>\n",
       "      <td>38.91</td>\n",
       "      <td>-77.00</td>\n",
       "      <td>38.91</td>\n",
       "      <td>-77.01</td>\n",
       "      <td>casual</td>\n",
       "    </tr>\n",
       "    <tr>\n",
       "      <th>1573528</th>\n",
       "      <td>electric_bike</td>\n",
       "      <td>2020-11-10 13:40:56</td>\n",
       "      <td>2020-11-10 14:10:00</td>\n",
       "      <td>NaN</td>\n",
       "      <td>NaN</td>\n",
       "      <td>NaN</td>\n",
       "      <td>NaN</td>\n",
       "      <td>38.92</td>\n",
       "      <td>-77.01</td>\n",
       "      <td>39.00</td>\n",
       "      <td>-77.03</td>\n",
       "      <td>casual</td>\n",
       "    </tr>\n",
       "    <tr>\n",
       "      <th>1573530</th>\n",
       "      <td>electric_bike</td>\n",
       "      <td>2020-11-10 15:05:42</td>\n",
       "      <td>2020-11-10 15:09:21</td>\n",
       "      <td>NaN</td>\n",
       "      <td>NaN</td>\n",
       "      <td>NaN</td>\n",
       "      <td>NaN</td>\n",
       "      <td>38.95</td>\n",
       "      <td>-77.08</td>\n",
       "      <td>38.95</td>\n",
       "      <td>-77.08</td>\n",
       "      <td>casual</td>\n",
       "    </tr>\n",
       "    <tr>\n",
       "      <th>1573531</th>\n",
       "      <td>electric_bike</td>\n",
       "      <td>2020-11-10 14:26:31</td>\n",
       "      <td>2020-11-10 14:29:34</td>\n",
       "      <td>NaN</td>\n",
       "      <td>NaN</td>\n",
       "      <td>NaN</td>\n",
       "      <td>NaN</td>\n",
       "      <td>38.95</td>\n",
       "      <td>-77.08</td>\n",
       "      <td>38.95</td>\n",
       "      <td>-77.08</td>\n",
       "      <td>casual</td>\n",
       "    </tr>\n",
       "  </tbody>\n",
       "</table>\n",
       "<p>73579 rows × 12 columns</p>\n",
       "</div>"
      ],
      "text/plain": [
       "         rideable_type           started_at             ended_at  \\\n",
       "244240   electric_bike  2020-06-29 15:09:52  2020-06-29 15:13:38   \n",
       "244241   electric_bike  2020-06-29 15:18:15  2020-06-29 15:26:04   \n",
       "244242   electric_bike  2020-06-29 15:03:12  2020-06-29 15:06:51   \n",
       "244243   electric_bike  2020-06-17 15:33:59  2020-06-17 15:34:55   \n",
       "244244   electric_bike  2020-06-17 14:53:21  2020-06-17 14:58:11   \n",
       "...                ...                  ...                  ...   \n",
       "1573510  electric_bike  2020-11-24 11:56:43  2020-11-24 12:26:41   \n",
       "1573527  electric_bike  2020-11-10 11:10:51  2020-11-10 11:55:07   \n",
       "1573528  electric_bike  2020-11-10 13:40:56  2020-11-10 14:10:00   \n",
       "1573530  electric_bike  2020-11-10 15:05:42  2020-11-10 15:09:21   \n",
       "1573531  electric_bike  2020-11-10 14:26:31  2020-11-10 14:29:34   \n",
       "\n",
       "        start_station_name  start_station_id end_station_name  end_station_id  \\\n",
       "244240                 NaN               NaN              NaN             NaN   \n",
       "244241                 NaN               NaN              NaN             NaN   \n",
       "244242                 NaN               NaN              NaN             NaN   \n",
       "244243                 NaN               NaN              NaN             NaN   \n",
       "244244                 NaN               NaN              NaN             NaN   \n",
       "...                    ...               ...              ...             ...   \n",
       "1573510                NaN               NaN              NaN             NaN   \n",
       "1573527                NaN               NaN              NaN             NaN   \n",
       "1573528                NaN               NaN              NaN             NaN   \n",
       "1573530                NaN               NaN              NaN             NaN   \n",
       "1573531                NaN               NaN              NaN             NaN   \n",
       "\n",
       "         start_lat  start_lng  end_lat  end_lng member_casual  \n",
       "244240       38.97     -77.02    38.97   -77.02        member  \n",
       "244241       38.97     -77.02    38.96   -77.01        member  \n",
       "244242       38.96     -77.01    38.97   -77.02        member  \n",
       "244243       38.96     -77.01    38.96   -77.01        member  \n",
       "244244       38.96     -77.01    38.96   -77.01        member  \n",
       "...            ...        ...      ...      ...           ...  \n",
       "1573510      38.93     -77.03    38.93   -77.03        casual  \n",
       "1573527      38.91     -77.00    38.91   -77.01        casual  \n",
       "1573528      38.92     -77.01    39.00   -77.03        casual  \n",
       "1573530      38.95     -77.08    38.95   -77.08        casual  \n",
       "1573531      38.95     -77.08    38.95   -77.08        casual  \n",
       "\n",
       "[73579 rows x 12 columns]"
      ]
     },
     "execution_count": 20,
     "metadata": {},
     "output_type": "execute_result"
    }
   ],
   "source": [
    "df2[df2['start_station_name'].isnull()]"
   ]
  },
  {
   "cell_type": "markdown",
   "metadata": {},
   "source": [
    "So although the `start_station_name` and `start_station_id` aren't listed, the latitude and longitude exist so maybe the information can be extracted from other entries with similar latitude and longitude. Also, it seems like maybe it has something to do with these entries being electric_bike rentals. "
   ]
  },
  {
   "cell_type": "code",
   "execution_count": 21,
   "metadata": {
    "ExecuteTime": {
     "end_time": "2020-12-22T04:39:12.119942Z",
     "start_time": "2020-12-22T04:39:12.040944Z"
    }
   },
   "outputs": [
    {
     "data": {
      "text/plain": [
       "array(['electric_bike'], dtype=object)"
      ]
     },
     "execution_count": 21,
     "metadata": {},
     "output_type": "execute_result"
    }
   ],
   "source": [
    "df2[df2['start_station_name'].isnull()]['rideable_type'].unique()"
   ]
  },
  {
   "cell_type": "markdown",
   "metadata": {},
   "source": [
    "Yes, all of the entries without `start_station_name` have to do with electric bike rentals."
   ]
  },
  {
   "cell_type": "code",
   "execution_count": 22,
   "metadata": {
    "ExecuteTime": {
     "end_time": "2020-12-22T04:39:12.246953Z",
     "start_time": "2020-12-22T04:39:12.122942Z"
    }
   },
   "outputs": [
    {
     "data": {
      "text/plain": [
       "210809"
      ]
     },
     "execution_count": 22,
     "metadata": {},
     "output_type": "execute_result"
    }
   ],
   "source": [
    "len(df2[df2['rideable_type'] == 'electric_bike'])"
   ]
  },
  {
   "cell_type": "markdown",
   "metadata": {},
   "source": [
    "But not all `electric_bike` rentals have this issue."
   ]
  },
  {
   "cell_type": "code",
   "execution_count": 23,
   "metadata": {
    "ExecuteTime": {
     "end_time": "2020-12-22T04:39:13.348919Z",
     "start_time": "2020-12-22T04:39:12.248953Z"
    }
   },
   "outputs": [
    {
     "data": {
      "text/html": [
       "<div>\n",
       "<style scoped>\n",
       "    .dataframe tbody tr th:only-of-type {\n",
       "        vertical-align: middle;\n",
       "    }\n",
       "\n",
       "    .dataframe tbody tr th {\n",
       "        vertical-align: top;\n",
       "    }\n",
       "\n",
       "    .dataframe thead th {\n",
       "        text-align: right;\n",
       "    }\n",
       "</style>\n",
       "<table border=\"1\" class=\"dataframe\">\n",
       "  <thead>\n",
       "    <tr style=\"text-align: right;\">\n",
       "      <th></th>\n",
       "      <th>rideable_type</th>\n",
       "      <th>started_at</th>\n",
       "      <th>ended_at</th>\n",
       "      <th>start_station_name</th>\n",
       "      <th>start_station_id</th>\n",
       "      <th>end_station_name</th>\n",
       "      <th>end_station_id</th>\n",
       "      <th>start_lat</th>\n",
       "      <th>start_lng</th>\n",
       "      <th>end_lat</th>\n",
       "      <th>end_lng</th>\n",
       "      <th>member_casual</th>\n",
       "      <th>start_lat_lng</th>\n",
       "      <th>end_lat_lng</th>\n",
       "    </tr>\n",
       "  </thead>\n",
       "  <tbody>\n",
       "    <tr>\n",
       "      <th>0</th>\n",
       "      <td>docked_bike</td>\n",
       "      <td>2020-04-27 10:33:08</td>\n",
       "      <td>2020-04-27 10:53:26</td>\n",
       "      <td>4th &amp; M St SW</td>\n",
       "      <td>21.0</td>\n",
       "      <td>New York Ave &amp; 15th St NW</td>\n",
       "      <td>124.0</td>\n",
       "      <td>38.8767</td>\n",
       "      <td>-77.0178</td>\n",
       "      <td>38.8990</td>\n",
       "      <td>-77.0334</td>\n",
       "      <td>member</td>\n",
       "      <td>(38.8767, -77.0178)</td>\n",
       "      <td>(38.899, -77.0334)</td>\n",
       "    </tr>\n",
       "    <tr>\n",
       "      <th>1</th>\n",
       "      <td>docked_bike</td>\n",
       "      <td>2020-04-27 11:20:07</td>\n",
       "      <td>2020-04-27 11:42:55</td>\n",
       "      <td>17th &amp; K St NW</td>\n",
       "      <td>100.0</td>\n",
       "      <td>4th &amp; M St SW</td>\n",
       "      <td>21.0</td>\n",
       "      <td>38.9028</td>\n",
       "      <td>-77.0386</td>\n",
       "      <td>38.8767</td>\n",
       "      <td>-77.0178</td>\n",
       "      <td>member</td>\n",
       "      <td>(38.9028, -77.0386)</td>\n",
       "      <td>(38.8767, -77.0178)</td>\n",
       "    </tr>\n",
       "    <tr>\n",
       "      <th>2</th>\n",
       "      <td>docked_bike</td>\n",
       "      <td>2020-04-27 09:45:45</td>\n",
       "      <td>2020-04-27 09:54:32</td>\n",
       "      <td>1st &amp; M St SE</td>\n",
       "      <td>578.0</td>\n",
       "      <td>4th &amp; M St SW</td>\n",
       "      <td>21.0</td>\n",
       "      <td>38.8769</td>\n",
       "      <td>-77.0061</td>\n",
       "      <td>38.8767</td>\n",
       "      <td>-77.0178</td>\n",
       "      <td>member</td>\n",
       "      <td>(38.8769, -77.0061)</td>\n",
       "      <td>(38.8767, -77.0178)</td>\n",
       "    </tr>\n",
       "    <tr>\n",
       "      <th>3</th>\n",
       "      <td>docked_bike</td>\n",
       "      <td>2020-04-14 13:16:54</td>\n",
       "      <td>2020-04-14 13:28:59</td>\n",
       "      <td>11th &amp; Kenyon St NW</td>\n",
       "      <td>15.0</td>\n",
       "      <td>Thomas Circle</td>\n",
       "      <td>178.0</td>\n",
       "      <td>38.9295</td>\n",
       "      <td>-77.0278</td>\n",
       "      <td>38.9059</td>\n",
       "      <td>-77.0325</td>\n",
       "      <td>casual</td>\n",
       "      <td>(38.9295, -77.0278)</td>\n",
       "      <td>(38.9059, -77.0325)</td>\n",
       "    </tr>\n",
       "    <tr>\n",
       "      <th>4</th>\n",
       "      <td>docked_bike</td>\n",
       "      <td>2020-04-19 20:42:25</td>\n",
       "      <td>2020-04-19 20:51:12</td>\n",
       "      <td>13th &amp; H St NE</td>\n",
       "      <td>97.0</td>\n",
       "      <td>Eastern Market / 7th &amp; North Carolina Ave SE</td>\n",
       "      <td>96.0</td>\n",
       "      <td>38.9004</td>\n",
       "      <td>-76.9883</td>\n",
       "      <td>38.8870</td>\n",
       "      <td>-76.9968</td>\n",
       "      <td>member</td>\n",
       "      <td>(38.9004, -76.9883)</td>\n",
       "      <td>(38.887, -76.9968)</td>\n",
       "    </tr>\n",
       "  </tbody>\n",
       "</table>\n",
       "</div>"
      ],
      "text/plain": [
       "  rideable_type           started_at             ended_at  \\\n",
       "0   docked_bike  2020-04-27 10:33:08  2020-04-27 10:53:26   \n",
       "1   docked_bike  2020-04-27 11:20:07  2020-04-27 11:42:55   \n",
       "2   docked_bike  2020-04-27 09:45:45  2020-04-27 09:54:32   \n",
       "3   docked_bike  2020-04-14 13:16:54  2020-04-14 13:28:59   \n",
       "4   docked_bike  2020-04-19 20:42:25  2020-04-19 20:51:12   \n",
       "\n",
       "    start_station_name  start_station_id  \\\n",
       "0        4th & M St SW              21.0   \n",
       "1       17th & K St NW             100.0   \n",
       "2        1st & M St SE             578.0   \n",
       "3  11th & Kenyon St NW              15.0   \n",
       "4       13th & H St NE              97.0   \n",
       "\n",
       "                               end_station_name  end_station_id  start_lat  \\\n",
       "0                     New York Ave & 15th St NW           124.0    38.8767   \n",
       "1                                 4th & M St SW            21.0    38.9028   \n",
       "2                                 4th & M St SW            21.0    38.8769   \n",
       "3                                 Thomas Circle           178.0    38.9295   \n",
       "4  Eastern Market / 7th & North Carolina Ave SE            96.0    38.9004   \n",
       "\n",
       "   start_lng  end_lat  end_lng member_casual        start_lat_lng  \\\n",
       "0   -77.0178  38.8990 -77.0334        member  (38.8767, -77.0178)   \n",
       "1   -77.0386  38.8767 -77.0178        member  (38.9028, -77.0386)   \n",
       "2   -77.0061  38.8767 -77.0178        member  (38.8769, -77.0061)   \n",
       "3   -77.0278  38.9059 -77.0325        casual  (38.9295, -77.0278)   \n",
       "4   -76.9883  38.8870 -76.9968        member  (38.9004, -76.9883)   \n",
       "\n",
       "           end_lat_lng  \n",
       "0   (38.899, -77.0334)  \n",
       "1  (38.8767, -77.0178)  \n",
       "2  (38.8767, -77.0178)  \n",
       "3  (38.9059, -77.0325)  \n",
       "4   (38.887, -76.9968)  "
      ]
     },
     "execution_count": 23,
     "metadata": {},
     "output_type": "execute_result"
    }
   ],
   "source": [
    "# Starting/ending lat long will be merged into one column for easier manipulation\n",
    "\n",
    "df2['start_lat_lng'] = list(zip(df2.start_lat, df2.start_lng))\n",
    "df2['end_lat_lng'] = list(zip(df2.end_lat, df2.end_lng))\n",
    "df2.head()"
   ]
  },
  {
   "cell_type": "code",
   "execution_count": 24,
   "metadata": {
    "ExecuteTime": {
     "end_time": "2020-12-22T04:39:13.756920Z",
     "start_time": "2020-12-22T04:39:13.350920Z"
    }
   },
   "outputs": [
    {
     "data": {
      "text/plain": [
       "543"
      ]
     },
     "execution_count": 24,
     "metadata": {},
     "output_type": "execute_result"
    }
   ],
   "source": [
    "null_start = df2[df2['start_station_name'].isnull()]\n",
    "null_station_coords = list(null_start.start_lat_lng.unique())\n",
    "len(null_station_coords)"
   ]
  },
  {
   "cell_type": "code",
   "execution_count": 25,
   "metadata": {
    "ExecuteTime": {
     "end_time": "2020-12-22T04:39:13.868920Z",
     "start_time": "2020-12-22T04:39:13.757923Z"
    }
   },
   "outputs": [
    {
     "data": {
      "text/plain": [
       "684"
      ]
     },
     "execution_count": 25,
     "metadata": {},
     "output_type": "execute_result"
    }
   ],
   "source": [
    "null_end = df2[df2['end_station_name'].isnull()]\n",
    "null_end_coords = list(null_end.end_lat_lng.unique())\n",
    "len(null_end_coords)"
   ]
  },
  {
   "cell_type": "code",
   "execution_count": 26,
   "metadata": {
    "ExecuteTime": {
     "end_time": "2020-12-22T04:39:13.884914Z",
     "start_time": "2020-12-22T04:39:13.870920Z"
    }
   },
   "outputs": [
    {
     "data": {
      "text/plain": [
       "1227"
      ]
     },
     "execution_count": 26,
     "metadata": {},
     "output_type": "execute_result"
    }
   ],
   "source": [
    "null_station_coords.extend(null_end_coords)\n",
    "len(null_station_coords)"
   ]
  },
  {
   "cell_type": "code",
   "execution_count": 27,
   "metadata": {
    "ExecuteTime": {
     "end_time": "2020-12-22T04:39:13.900914Z",
     "start_time": "2020-12-22T04:39:13.886904Z"
    }
   },
   "outputs": [
    {
     "data": {
      "text/plain": [
       "686"
      ]
     },
     "execution_count": 27,
     "metadata": {},
     "output_type": "execute_result"
    }
   ],
   "source": [
    "def removeDuplicates(lst):\n",
    "    return [t for t in (set(tuple(i) for i in lst))]\n",
    "\n",
    "null_station_coords = removeDuplicates(null_station_coords)\n",
    "len(null_station_coords)"
   ]
  },
  {
   "cell_type": "code",
   "execution_count": 28,
   "metadata": {
    "ExecuteTime": {
     "end_time": "2020-12-22T04:40:18.864972Z",
     "start_time": "2020-12-22T04:39:13.902904Z"
    }
   },
   "outputs": [],
   "source": [
    "for coord in null_station_coords:\n",
    "    address_check = df2[df2['start_lat_lng']==coord]['start_station_name'].unique()\n",
    "    if len(address_check) > 1:\n",
    "        # 'address_check' will only return a list of ['nan'], check if there are other names for station other than 'nan'\n",
    "        print(f'{coord}: {address_check}')"
   ]
  },
  {
   "cell_type": "markdown",
   "metadata": {},
   "source": [
    "The coordinates where `start_station` is `NaN` have no station names at all in the dataset. Could obtain street names for these coordinates."
   ]
  },
  {
   "cell_type": "markdown",
   "metadata": {},
   "source": [
    "### Obtain street names for null station entries"
   ]
  },
  {
   "cell_type": "code",
   "execution_count": 29,
   "metadata": {
    "ExecuteTime": {
     "end_time": "2020-12-22T04:40:19.455842Z",
     "start_time": "2020-12-22T04:40:18.865959Z"
    }
   },
   "outputs": [
    {
     "data": {
      "text/plain": [
       "{'place_id': 275990459,\n",
       " 'licence': 'Data © OpenStreetMap contributors, ODbL 1.0. https://osm.org/copyright',\n",
       " 'osm_type': 'way',\n",
       " 'osm_id': 6115499,\n",
       " 'lat': '38.819905',\n",
       " 'lon': '-76.989901',\n",
       " 'display_name': \"1100, Kennebec Street, Glassmanor, Prince George's County, Maryland, 20745, United States\",\n",
       " 'address': {'house_number': '1100',\n",
       "  'road': 'Kennebec Street',\n",
       "  'town': 'Glassmanor',\n",
       "  'county': \"Prince George's County\",\n",
       "  'state': 'Maryland',\n",
       "  'postcode': '20745',\n",
       "  'country': 'United States',\n",
       "  'country_code': 'us'},\n",
       " 'boundingbox': ['38.819855', '38.819955', '-76.989951', '-76.989851']}"
      ]
     },
     "execution_count": 29,
     "metadata": {},
     "output_type": "execute_result"
    }
   ],
   "source": [
    "from geopy.geocoders import Nominatim\n",
    "from geopy.extra.rate_limiter import RateLimiter\n",
    "\n",
    "geolocator = Nominatim(user_agent = 'test_locator')\n",
    "location = geolocator.reverse(null_station_coords[0])\n",
    "\n",
    "location.raw # can extract road from here and fill in the station"
   ]
  },
  {
   "cell_type": "code",
   "execution_count": 30,
   "metadata": {
    "ExecuteTime": {
     "end_time": "2020-12-22T04:46:03.420634Z",
     "start_time": "2020-12-22T04:40:19.460838Z"
    },
    "scrolled": true
   },
   "outputs": [
    {
     "name": "stdout",
     "output_type": "stream",
     "text": [
      "(38.89, -77.04) {'city': 'Washington', 'state': 'District of Columbia', 'country': 'United States', 'country_code': 'us'}\n",
      "(38.79, -76.98) {'hamlet': 'Rosecroft Park', 'town': 'Oxon Hill', 'county': \"Prince George's County\", 'state': 'Maryland', 'postcode': '20744-3008', 'country': 'United States', 'country_code': 'us'}\n",
      "(39.06, -77.09) {'neighbourhood': 'Stoney Brook', 'hamlet': 'Franklin Park', 'county': 'Montgomery County', 'state': 'Maryland', 'postcode': '20857', 'country': 'United States', 'country_code': 'us'}\n",
      "(38.89, -76.88) {'neighbourhood': 'Yorkshire Knolls', 'suburb': 'Carmody Hills', 'village': 'Peppermill Village', 'county': \"Prince George's County\", 'state': 'Maryland', 'postcode': '20743', 'country': 'United States', 'country_code': 'us'}\n",
      "(38.96, -76.88) {'town': 'New Carrollton', 'county': \"Prince George's County\", 'state': 'Maryland', 'postcode': '20784', 'country': 'United States', 'country_code': 'us'}\n",
      "(38.86, -77.01) {'city': 'Washington', 'state': 'District of Columbia', 'postcode': '20373-5815', 'country': 'United States', 'country_code': 'us'}\n",
      "(38.93, -77.31) {'hamlet': 'Hunter', 'county': 'Fairfax (city)', 'state': 'Virginia', 'postcode': '22181:22182', 'country': 'United States', 'country_code': 'us'}\n",
      "(38.88, -77.21) {'town': 'Idylwood', 'county': 'Fairfax (city)', 'state': 'Virginia', 'postcode': '22031:22046', 'country': 'United States', 'country_code': 'us'}\n",
      "(38.87, -77.26) {'hamlet': 'Boulevard Estates', 'town': 'Merrifield', 'county': 'Fairfax (city)', 'state': 'Virginia', 'postcode': '22031', 'country': 'United States', 'country_code': 'us'}\n",
      "(38.8, -77.06) {'neighbourhood': 'Lyles-Crouch', 'city': 'Alexandria', 'state': 'Virginia', 'postcode': '22314', 'country': 'United States', 'country_code': 'us'}\n"
     ]
    }
   ],
   "source": [
    "streets_to_fill = dict()\n",
    "geocode = RateLimiter(geolocator.geocode, min_delay_seconds = 0.5)\n",
    "i = 0\n",
    "for coord in null_station_coords:\n",
    "    location = geolocator.reverse(coord)\n",
    "    address = location.raw['address']\n",
    "    \n",
    "    if 'road' in address:\n",
    "        street = address['road']\n",
    "    elif 'residential' in address:\n",
    "        street = address['residential']\n",
    "    elif 'leisure' in address:\n",
    "        street = address['leisure']\n",
    "    elif 'quarter' in address:\n",
    "        street = address['quarter']\n",
    "    else:\n",
    "        print(coord, address)\n",
    "        street = list(address.values())[0]\n",
    "\n",
    "    \n",
    "    streets_to_fill[coord] = street\n",
    "    "
   ]
  },
  {
   "cell_type": "code",
   "execution_count": 31,
   "metadata": {
    "ExecuteTime": {
     "end_time": "2020-12-22T04:46:36.283834Z",
     "start_time": "2020-12-22T04:46:03.426622Z"
    }
   },
   "outputs": [],
   "source": [
    "# Fill start station name if empty using coordinates and dictionary created above.\n",
    "df2['start_station_name'] = df2.apply(\n",
    "    lambda row: streets_to_fill[row['start_lat_lng']] if row['start_station_name'] is np.nan else row['start_station_name'],\n",
    "    axis = 1)"
   ]
  },
  {
   "cell_type": "code",
   "execution_count": 32,
   "metadata": {
    "ExecuteTime": {
     "end_time": "2020-12-22T04:47:08.948825Z",
     "start_time": "2020-12-22T04:46:36.284809Z"
    }
   },
   "outputs": [],
   "source": [
    "df2['end_station_name'] = df2.apply(\n",
    "    lambda row: streets_to_fill[row['end_lat_lng']] if row['end_station_name'] is np.nan else row['end_station_name'],\n",
    "    axis = 1)"
   ]
  },
  {
   "cell_type": "code",
   "execution_count": 33,
   "metadata": {
    "ExecuteTime": {
     "end_time": "2020-12-22T04:47:09.428817Z",
     "start_time": "2020-12-22T04:47:08.950830Z"
    }
   },
   "outputs": [
    {
     "data": {
      "text/plain": [
       "rideable_type             0\n",
       "started_at                0\n",
       "ended_at                  0\n",
       "start_station_name        0\n",
       "start_station_id      73579\n",
       "end_station_name          0\n",
       "end_station_id        78978\n",
       "start_lat                 0\n",
       "start_lng                 0\n",
       "end_lat                   0\n",
       "end_lng                   0\n",
       "member_casual             0\n",
       "start_lat_lng             0\n",
       "end_lat_lng               0\n",
       "dtype: int64"
      ]
     },
     "execution_count": 33,
     "metadata": {},
     "output_type": "execute_result"
    }
   ],
   "source": [
    "df2.isna().sum()"
   ]
  },
  {
   "cell_type": "code",
   "execution_count": 34,
   "metadata": {
    "ExecuteTime": {
     "end_time": "2020-12-22T04:47:09.646864Z",
     "start_time": "2020-12-22T04:47:09.430811Z"
    }
   },
   "outputs": [],
   "source": [
    "df2.drop(['start_station_id', 'end_station_id'], axis = 1, inplace = True)"
   ]
  },
  {
   "cell_type": "code",
   "execution_count": 35,
   "metadata": {
    "ExecuteTime": {
     "end_time": "2020-12-22T04:47:09.662849Z",
     "start_time": "2020-12-22T04:47:09.647859Z"
    }
   },
   "outputs": [
    {
     "data": {
      "text/html": [
       "<div>\n",
       "<style scoped>\n",
       "    .dataframe tbody tr th:only-of-type {\n",
       "        vertical-align: middle;\n",
       "    }\n",
       "\n",
       "    .dataframe tbody tr th {\n",
       "        vertical-align: top;\n",
       "    }\n",
       "\n",
       "    .dataframe thead th {\n",
       "        text-align: right;\n",
       "    }\n",
       "</style>\n",
       "<table border=\"1\" class=\"dataframe\">\n",
       "  <thead>\n",
       "    <tr style=\"text-align: right;\">\n",
       "      <th></th>\n",
       "      <th>duration</th>\n",
       "      <th>started_at</th>\n",
       "      <th>ended_at</th>\n",
       "      <th>start_station_name</th>\n",
       "      <th>end_station_name</th>\n",
       "      <th>member_casual</th>\n",
       "    </tr>\n",
       "  </thead>\n",
       "  <tbody>\n",
       "    <tr>\n",
       "      <th>0</th>\n",
       "      <td>1012</td>\n",
       "      <td>2010-09-20 11:27:04</td>\n",
       "      <td>2010-09-20 11:43:56</td>\n",
       "      <td>M St &amp; New Jersey Ave SE</td>\n",
       "      <td>4th &amp; M St SW</td>\n",
       "      <td>Member</td>\n",
       "    </tr>\n",
       "    <tr>\n",
       "      <th>1</th>\n",
       "      <td>61</td>\n",
       "      <td>2010-09-20 11:41:22</td>\n",
       "      <td>2010-09-20 11:42:23</td>\n",
       "      <td>1st &amp; N St  SE</td>\n",
       "      <td>1st &amp; N St  SE</td>\n",
       "      <td>Member</td>\n",
       "    </tr>\n",
       "    <tr>\n",
       "      <th>2</th>\n",
       "      <td>2690</td>\n",
       "      <td>2010-09-20 12:05:37</td>\n",
       "      <td>2010-09-20 12:50:27</td>\n",
       "      <td>5th &amp; K St NW</td>\n",
       "      <td>19th St &amp; Pennsylvania Ave NW</td>\n",
       "      <td>Member</td>\n",
       "    </tr>\n",
       "    <tr>\n",
       "      <th>3</th>\n",
       "      <td>1406</td>\n",
       "      <td>2010-09-20 12:06:05</td>\n",
       "      <td>2010-09-20 12:29:32</td>\n",
       "      <td>5th &amp; K St NW</td>\n",
       "      <td>Park Rd &amp; Holmead Pl NW</td>\n",
       "      <td>Member</td>\n",
       "    </tr>\n",
       "    <tr>\n",
       "      <th>4</th>\n",
       "      <td>1413</td>\n",
       "      <td>2010-09-20 12:10:43</td>\n",
       "      <td>2010-09-20 12:34:17</td>\n",
       "      <td>19th St &amp; Pennsylvania Ave NW</td>\n",
       "      <td>15th &amp; P St NW</td>\n",
       "      <td>Member</td>\n",
       "    </tr>\n",
       "  </tbody>\n",
       "</table>\n",
       "</div>"
      ],
      "text/plain": [
       "   duration           started_at             ended_at  \\\n",
       "0      1012  2010-09-20 11:27:04  2010-09-20 11:43:56   \n",
       "1        61  2010-09-20 11:41:22  2010-09-20 11:42:23   \n",
       "2      2690  2010-09-20 12:05:37  2010-09-20 12:50:27   \n",
       "3      1406  2010-09-20 12:06:05  2010-09-20 12:29:32   \n",
       "4      1413  2010-09-20 12:10:43  2010-09-20 12:34:17   \n",
       "\n",
       "              start_station_name               end_station_name member_casual  \n",
       "0       M St & New Jersey Ave SE                  4th & M St SW        Member  \n",
       "1                 1st & N St  SE                 1st & N St  SE        Member  \n",
       "2                  5th & K St NW  19th St & Pennsylvania Ave NW        Member  \n",
       "3                  5th & K St NW        Park Rd & Holmead Pl NW        Member  \n",
       "4  19th St & Pennsylvania Ave NW                 15th & P St NW        Member  "
      ]
     },
     "execution_count": 35,
     "metadata": {},
     "output_type": "execute_result"
    }
   ],
   "source": [
    "df1.head()"
   ]
  },
  {
   "cell_type": "code",
   "execution_count": 36,
   "metadata": {
    "ExecuteTime": {
     "end_time": "2020-12-22T04:47:09.694876Z",
     "start_time": "2020-12-22T04:47:09.664849Z"
    }
   },
   "outputs": [
    {
     "data": {
      "text/html": [
       "<div>\n",
       "<style scoped>\n",
       "    .dataframe tbody tr th:only-of-type {\n",
       "        vertical-align: middle;\n",
       "    }\n",
       "\n",
       "    .dataframe tbody tr th {\n",
       "        vertical-align: top;\n",
       "    }\n",
       "\n",
       "    .dataframe thead th {\n",
       "        text-align: right;\n",
       "    }\n",
       "</style>\n",
       "<table border=\"1\" class=\"dataframe\">\n",
       "  <thead>\n",
       "    <tr style=\"text-align: right;\">\n",
       "      <th></th>\n",
       "      <th>rideable_type</th>\n",
       "      <th>started_at</th>\n",
       "      <th>ended_at</th>\n",
       "      <th>start_station_name</th>\n",
       "      <th>end_station_name</th>\n",
       "      <th>start_lat</th>\n",
       "      <th>start_lng</th>\n",
       "      <th>end_lat</th>\n",
       "      <th>end_lng</th>\n",
       "      <th>member_casual</th>\n",
       "      <th>start_lat_lng</th>\n",
       "      <th>end_lat_lng</th>\n",
       "    </tr>\n",
       "  </thead>\n",
       "  <tbody>\n",
       "    <tr>\n",
       "      <th>0</th>\n",
       "      <td>docked_bike</td>\n",
       "      <td>2020-04-27 10:33:08</td>\n",
       "      <td>2020-04-27 10:53:26</td>\n",
       "      <td>4th &amp; M St SW</td>\n",
       "      <td>New York Ave &amp; 15th St NW</td>\n",
       "      <td>38.8767</td>\n",
       "      <td>-77.0178</td>\n",
       "      <td>38.8990</td>\n",
       "      <td>-77.0334</td>\n",
       "      <td>member</td>\n",
       "      <td>(38.8767, -77.0178)</td>\n",
       "      <td>(38.899, -77.0334)</td>\n",
       "    </tr>\n",
       "    <tr>\n",
       "      <th>1</th>\n",
       "      <td>docked_bike</td>\n",
       "      <td>2020-04-27 11:20:07</td>\n",
       "      <td>2020-04-27 11:42:55</td>\n",
       "      <td>17th &amp; K St NW</td>\n",
       "      <td>4th &amp; M St SW</td>\n",
       "      <td>38.9028</td>\n",
       "      <td>-77.0386</td>\n",
       "      <td>38.8767</td>\n",
       "      <td>-77.0178</td>\n",
       "      <td>member</td>\n",
       "      <td>(38.9028, -77.0386)</td>\n",
       "      <td>(38.8767, -77.0178)</td>\n",
       "    </tr>\n",
       "    <tr>\n",
       "      <th>2</th>\n",
       "      <td>docked_bike</td>\n",
       "      <td>2020-04-27 09:45:45</td>\n",
       "      <td>2020-04-27 09:54:32</td>\n",
       "      <td>1st &amp; M St SE</td>\n",
       "      <td>4th &amp; M St SW</td>\n",
       "      <td>38.8769</td>\n",
       "      <td>-77.0061</td>\n",
       "      <td>38.8767</td>\n",
       "      <td>-77.0178</td>\n",
       "      <td>member</td>\n",
       "      <td>(38.8769, -77.0061)</td>\n",
       "      <td>(38.8767, -77.0178)</td>\n",
       "    </tr>\n",
       "    <tr>\n",
       "      <th>3</th>\n",
       "      <td>docked_bike</td>\n",
       "      <td>2020-04-14 13:16:54</td>\n",
       "      <td>2020-04-14 13:28:59</td>\n",
       "      <td>11th &amp; Kenyon St NW</td>\n",
       "      <td>Thomas Circle</td>\n",
       "      <td>38.9295</td>\n",
       "      <td>-77.0278</td>\n",
       "      <td>38.9059</td>\n",
       "      <td>-77.0325</td>\n",
       "      <td>casual</td>\n",
       "      <td>(38.9295, -77.0278)</td>\n",
       "      <td>(38.9059, -77.0325)</td>\n",
       "    </tr>\n",
       "    <tr>\n",
       "      <th>4</th>\n",
       "      <td>docked_bike</td>\n",
       "      <td>2020-04-19 20:42:25</td>\n",
       "      <td>2020-04-19 20:51:12</td>\n",
       "      <td>13th &amp; H St NE</td>\n",
       "      <td>Eastern Market / 7th &amp; North Carolina Ave SE</td>\n",
       "      <td>38.9004</td>\n",
       "      <td>-76.9883</td>\n",
       "      <td>38.8870</td>\n",
       "      <td>-76.9968</td>\n",
       "      <td>member</td>\n",
       "      <td>(38.9004, -76.9883)</td>\n",
       "      <td>(38.887, -76.9968)</td>\n",
       "    </tr>\n",
       "  </tbody>\n",
       "</table>\n",
       "</div>"
      ],
      "text/plain": [
       "  rideable_type           started_at             ended_at  \\\n",
       "0   docked_bike  2020-04-27 10:33:08  2020-04-27 10:53:26   \n",
       "1   docked_bike  2020-04-27 11:20:07  2020-04-27 11:42:55   \n",
       "2   docked_bike  2020-04-27 09:45:45  2020-04-27 09:54:32   \n",
       "3   docked_bike  2020-04-14 13:16:54  2020-04-14 13:28:59   \n",
       "4   docked_bike  2020-04-19 20:42:25  2020-04-19 20:51:12   \n",
       "\n",
       "    start_station_name                              end_station_name  \\\n",
       "0        4th & M St SW                     New York Ave & 15th St NW   \n",
       "1       17th & K St NW                                 4th & M St SW   \n",
       "2        1st & M St SE                                 4th & M St SW   \n",
       "3  11th & Kenyon St NW                                 Thomas Circle   \n",
       "4       13th & H St NE  Eastern Market / 7th & North Carolina Ave SE   \n",
       "\n",
       "   start_lat  start_lng  end_lat  end_lng member_casual        start_lat_lng  \\\n",
       "0    38.8767   -77.0178  38.8990 -77.0334        member  (38.8767, -77.0178)   \n",
       "1    38.9028   -77.0386  38.8767 -77.0178        member  (38.9028, -77.0386)   \n",
       "2    38.8769   -77.0061  38.8767 -77.0178        member  (38.8769, -77.0061)   \n",
       "3    38.9295   -77.0278  38.9059 -77.0325        casual  (38.9295, -77.0278)   \n",
       "4    38.9004   -76.9883  38.8870 -76.9968        member  (38.9004, -76.9883)   \n",
       "\n",
       "           end_lat_lng  \n",
       "0   (38.899, -77.0334)  \n",
       "1  (38.8767, -77.0178)  \n",
       "2  (38.8767, -77.0178)  \n",
       "3  (38.9059, -77.0325)  \n",
       "4   (38.887, -76.9968)  "
      ]
     },
     "execution_count": 36,
     "metadata": {},
     "output_type": "execute_result"
    }
   ],
   "source": [
    "df2.head()"
   ]
  },
  {
   "cell_type": "markdown",
   "metadata": {},
   "source": [
    "### Calculate trip durations for second dataframe"
   ]
  },
  {
   "cell_type": "code",
   "execution_count": 37,
   "metadata": {
    "ExecuteTime": {
     "end_time": "2020-12-22T04:47:11.918881Z",
     "start_time": "2020-12-22T04:47:09.696857Z"
    }
   },
   "outputs": [],
   "source": [
    "df2['started_at'] = pd.to_datetime(df2['started_at'])\n",
    "df2['ended_at'] = pd.to_datetime(df2['ended_at'])"
   ]
  },
  {
   "cell_type": "code",
   "execution_count": 38,
   "metadata": {
    "ExecuteTime": {
     "end_time": "2020-12-22T04:47:11.982891Z",
     "start_time": "2020-12-22T04:47:11.919903Z"
    }
   },
   "outputs": [],
   "source": [
    "import datetime as dt\n",
    "df2['duration'] = (df2['ended_at'] - df2['started_at']).dt.total_seconds()"
   ]
  },
  {
   "cell_type": "code",
   "execution_count": 39,
   "metadata": {
    "ExecuteTime": {
     "end_time": "2020-12-22T04:47:12.014890Z",
     "start_time": "2020-12-22T04:47:11.983891Z"
    },
    "scrolled": true
   },
   "outputs": [
    {
     "data": {
      "text/html": [
       "<div>\n",
       "<style scoped>\n",
       "    .dataframe tbody tr th:only-of-type {\n",
       "        vertical-align: middle;\n",
       "    }\n",
       "\n",
       "    .dataframe tbody tr th {\n",
       "        vertical-align: top;\n",
       "    }\n",
       "\n",
       "    .dataframe thead th {\n",
       "        text-align: right;\n",
       "    }\n",
       "</style>\n",
       "<table border=\"1\" class=\"dataframe\">\n",
       "  <thead>\n",
       "    <tr style=\"text-align: right;\">\n",
       "      <th></th>\n",
       "      <th>rideable_type</th>\n",
       "      <th>started_at</th>\n",
       "      <th>ended_at</th>\n",
       "      <th>start_station_name</th>\n",
       "      <th>end_station_name</th>\n",
       "      <th>start_lat</th>\n",
       "      <th>start_lng</th>\n",
       "      <th>end_lat</th>\n",
       "      <th>end_lng</th>\n",
       "      <th>member_casual</th>\n",
       "      <th>start_lat_lng</th>\n",
       "      <th>end_lat_lng</th>\n",
       "      <th>duration</th>\n",
       "    </tr>\n",
       "  </thead>\n",
       "  <tbody>\n",
       "    <tr>\n",
       "      <th>0</th>\n",
       "      <td>docked_bike</td>\n",
       "      <td>2020-04-27 10:33:08</td>\n",
       "      <td>2020-04-27 10:53:26</td>\n",
       "      <td>4th &amp; M St SW</td>\n",
       "      <td>New York Ave &amp; 15th St NW</td>\n",
       "      <td>38.8767</td>\n",
       "      <td>-77.0178</td>\n",
       "      <td>38.8990</td>\n",
       "      <td>-77.0334</td>\n",
       "      <td>member</td>\n",
       "      <td>(38.8767, -77.0178)</td>\n",
       "      <td>(38.899, -77.0334)</td>\n",
       "      <td>1218.0</td>\n",
       "    </tr>\n",
       "    <tr>\n",
       "      <th>1</th>\n",
       "      <td>docked_bike</td>\n",
       "      <td>2020-04-27 11:20:07</td>\n",
       "      <td>2020-04-27 11:42:55</td>\n",
       "      <td>17th &amp; K St NW</td>\n",
       "      <td>4th &amp; M St SW</td>\n",
       "      <td>38.9028</td>\n",
       "      <td>-77.0386</td>\n",
       "      <td>38.8767</td>\n",
       "      <td>-77.0178</td>\n",
       "      <td>member</td>\n",
       "      <td>(38.9028, -77.0386)</td>\n",
       "      <td>(38.8767, -77.0178)</td>\n",
       "      <td>1368.0</td>\n",
       "    </tr>\n",
       "    <tr>\n",
       "      <th>2</th>\n",
       "      <td>docked_bike</td>\n",
       "      <td>2020-04-27 09:45:45</td>\n",
       "      <td>2020-04-27 09:54:32</td>\n",
       "      <td>1st &amp; M St SE</td>\n",
       "      <td>4th &amp; M St SW</td>\n",
       "      <td>38.8769</td>\n",
       "      <td>-77.0061</td>\n",
       "      <td>38.8767</td>\n",
       "      <td>-77.0178</td>\n",
       "      <td>member</td>\n",
       "      <td>(38.8769, -77.0061)</td>\n",
       "      <td>(38.8767, -77.0178)</td>\n",
       "      <td>527.0</td>\n",
       "    </tr>\n",
       "    <tr>\n",
       "      <th>3</th>\n",
       "      <td>docked_bike</td>\n",
       "      <td>2020-04-14 13:16:54</td>\n",
       "      <td>2020-04-14 13:28:59</td>\n",
       "      <td>11th &amp; Kenyon St NW</td>\n",
       "      <td>Thomas Circle</td>\n",
       "      <td>38.9295</td>\n",
       "      <td>-77.0278</td>\n",
       "      <td>38.9059</td>\n",
       "      <td>-77.0325</td>\n",
       "      <td>casual</td>\n",
       "      <td>(38.9295, -77.0278)</td>\n",
       "      <td>(38.9059, -77.0325)</td>\n",
       "      <td>725.0</td>\n",
       "    </tr>\n",
       "    <tr>\n",
       "      <th>4</th>\n",
       "      <td>docked_bike</td>\n",
       "      <td>2020-04-19 20:42:25</td>\n",
       "      <td>2020-04-19 20:51:12</td>\n",
       "      <td>13th &amp; H St NE</td>\n",
       "      <td>Eastern Market / 7th &amp; North Carolina Ave SE</td>\n",
       "      <td>38.9004</td>\n",
       "      <td>-76.9883</td>\n",
       "      <td>38.8870</td>\n",
       "      <td>-76.9968</td>\n",
       "      <td>member</td>\n",
       "      <td>(38.9004, -76.9883)</td>\n",
       "      <td>(38.887, -76.9968)</td>\n",
       "      <td>527.0</td>\n",
       "    </tr>\n",
       "  </tbody>\n",
       "</table>\n",
       "</div>"
      ],
      "text/plain": [
       "  rideable_type          started_at            ended_at   start_station_name  \\\n",
       "0   docked_bike 2020-04-27 10:33:08 2020-04-27 10:53:26        4th & M St SW   \n",
       "1   docked_bike 2020-04-27 11:20:07 2020-04-27 11:42:55       17th & K St NW   \n",
       "2   docked_bike 2020-04-27 09:45:45 2020-04-27 09:54:32        1st & M St SE   \n",
       "3   docked_bike 2020-04-14 13:16:54 2020-04-14 13:28:59  11th & Kenyon St NW   \n",
       "4   docked_bike 2020-04-19 20:42:25 2020-04-19 20:51:12       13th & H St NE   \n",
       "\n",
       "                               end_station_name  start_lat  start_lng  \\\n",
       "0                     New York Ave & 15th St NW    38.8767   -77.0178   \n",
       "1                                 4th & M St SW    38.9028   -77.0386   \n",
       "2                                 4th & M St SW    38.8769   -77.0061   \n",
       "3                                 Thomas Circle    38.9295   -77.0278   \n",
       "4  Eastern Market / 7th & North Carolina Ave SE    38.9004   -76.9883   \n",
       "\n",
       "   end_lat  end_lng member_casual        start_lat_lng          end_lat_lng  \\\n",
       "0  38.8990 -77.0334        member  (38.8767, -77.0178)   (38.899, -77.0334)   \n",
       "1  38.8767 -77.0178        member  (38.9028, -77.0386)  (38.8767, -77.0178)   \n",
       "2  38.8767 -77.0178        member  (38.8769, -77.0061)  (38.8767, -77.0178)   \n",
       "3  38.9059 -77.0325        casual  (38.9295, -77.0278)  (38.9059, -77.0325)   \n",
       "4  38.8870 -76.9968        member  (38.9004, -76.9883)   (38.887, -76.9968)   \n",
       "\n",
       "   duration  \n",
       "0    1218.0  \n",
       "1    1368.0  \n",
       "2     527.0  \n",
       "3     725.0  \n",
       "4     527.0  "
      ]
     },
     "execution_count": 39,
     "metadata": {},
     "output_type": "execute_result"
    }
   ],
   "source": [
    "df2.head()"
   ]
  },
  {
   "cell_type": "markdown",
   "metadata": {},
   "source": [
    "### Fill in latitude/longitude in first dataframe"
   ]
  },
  {
   "cell_type": "code",
   "execution_count": 64,
   "metadata": {
    "ExecuteTime": {
     "end_time": "2020-12-22T05:40:57.272842Z",
     "start_time": "2020-12-22T05:40:56.821849Z"
    }
   },
   "outputs": [
    {
     "data": {
      "text/plain": [
       "1227"
      ]
     },
     "execution_count": 64,
     "metadata": {},
     "output_type": "execute_result"
    }
   ],
   "source": [
    "stations = list(df2['start_station_name'])\n",
    "stations.extend(df2['end_station_name'])\n",
    "stations = list(set(stations))\n",
    "\n",
    "len(stations)"
   ]
  },
  {
   "cell_type": "code",
   "execution_count": 41,
   "metadata": {
    "ExecuteTime": {
     "end_time": "2020-12-22T04:48:44.277136Z",
     "start_time": "2020-12-22T04:47:12.364879Z"
    }
   },
   "outputs": [],
   "source": [
    "stations_dict = {}\n",
    "start_stations = list(df2['start_station_name'].unique())\n",
    "end_stations = list(df2['end_station_name'].unique())\n",
    "\n",
    "for station in stations:\n",
    "    if station in start_stations:\n",
    "        stations_dict[station] = tuple(df2.loc[(df2['start_station_name'] == station).idxmax(), ['start_lat', 'start_lng']])\n",
    "    else:\n",
    "        stations_dict[station] = tuple(df2.loc[(df2['end_station_name'] == station).idxmax(), ['end_lat', 'end_lng']])"
   ]
  },
  {
   "cell_type": "code",
   "execution_count": 42,
   "metadata": {
    "ExecuteTime": {
     "end_time": "2020-12-22T04:48:44.292109Z",
     "start_time": "2020-12-22T04:48:44.279112Z"
    }
   },
   "outputs": [],
   "source": [
    "def fill_latlng(address):\n",
    "    if address in stations_dict:\n",
    "        lat, lng = stations_dict[address]\n",
    "        return lat, lng\n",
    "    else:\n",
    "        pass\n",
    "    "
   ]
  },
  {
   "cell_type": "code",
   "execution_count": 43,
   "metadata": {
    "ExecuteTime": {
     "end_time": "2020-12-22T04:49:01.288895Z",
     "start_time": "2020-12-22T04:48:44.295108Z"
    }
   },
   "outputs": [],
   "source": [
    "df1['start_lat_lng'] = df1['start_station_name'].apply(fill_latlng)\n",
    "df1['end_lat_lng'] = df1['end_station_name'].apply(fill_latlng)"
   ]
  },
  {
   "cell_type": "code",
   "execution_count": 59,
   "metadata": {
    "ExecuteTime": {
     "end_time": "2020-12-22T05:00:54.780363Z",
     "start_time": "2020-12-22T05:00:38.867272Z"
    }
   },
   "outputs": [
    {
     "data": {
      "text/html": [
       "<div>\n",
       "<style scoped>\n",
       "    .dataframe tbody tr th:only-of-type {\n",
       "        vertical-align: middle;\n",
       "    }\n",
       "\n",
       "    .dataframe tbody tr th {\n",
       "        vertical-align: top;\n",
       "    }\n",
       "\n",
       "    .dataframe thead th {\n",
       "        text-align: right;\n",
       "    }\n",
       "</style>\n",
       "<table border=\"1\" class=\"dataframe\">\n",
       "  <thead>\n",
       "    <tr style=\"text-align: right;\">\n",
       "      <th></th>\n",
       "      <th>duration</th>\n",
       "      <th>started_at</th>\n",
       "      <th>ended_at</th>\n",
       "      <th>start_station_name</th>\n",
       "      <th>end_station_name</th>\n",
       "      <th>member_casual</th>\n",
       "      <th>start_lat_lng</th>\n",
       "      <th>end_lat_lng</th>\n",
       "      <th>start_lat</th>\n",
       "      <th>start_lng</th>\n",
       "      <th>end_lat</th>\n",
       "      <th>end_lng</th>\n",
       "    </tr>\n",
       "  </thead>\n",
       "  <tbody>\n",
       "    <tr>\n",
       "      <th>0</th>\n",
       "      <td>1012</td>\n",
       "      <td>2010-09-20 11:27:04</td>\n",
       "      <td>2010-09-20 11:43:56</td>\n",
       "      <td>M St &amp; New Jersey Ave SE</td>\n",
       "      <td>4th &amp; M St SW</td>\n",
       "      <td>Member</td>\n",
       "      <td>(38.8763, -77.0037)</td>\n",
       "      <td>(38.8767, -77.0178)</td>\n",
       "      <td>38.8763</td>\n",
       "      <td>-77.0037</td>\n",
       "      <td>38.8767</td>\n",
       "      <td>-77.0178</td>\n",
       "    </tr>\n",
       "    <tr>\n",
       "      <th>1</th>\n",
       "      <td>61</td>\n",
       "      <td>2010-09-20 11:41:22</td>\n",
       "      <td>2010-09-20 11:42:23</td>\n",
       "      <td>1st &amp; N St  SE</td>\n",
       "      <td>1st &amp; N St  SE</td>\n",
       "      <td>Member</td>\n",
       "      <td>(38.8743, -77.0057)</td>\n",
       "      <td>(38.8743, -77.0057)</td>\n",
       "      <td>38.8743</td>\n",
       "      <td>-77.0057</td>\n",
       "      <td>38.8743</td>\n",
       "      <td>-77.0057</td>\n",
       "    </tr>\n",
       "    <tr>\n",
       "      <th>2</th>\n",
       "      <td>2690</td>\n",
       "      <td>2010-09-20 12:05:37</td>\n",
       "      <td>2010-09-20 12:50:27</td>\n",
       "      <td>5th &amp; K St NW</td>\n",
       "      <td>19th St &amp; Pennsylvania Ave NW</td>\n",
       "      <td>Member</td>\n",
       "      <td>(38.903, -77.01899999999999)</td>\n",
       "      <td>(38.9003, -77.0429)</td>\n",
       "      <td>38.9030</td>\n",
       "      <td>-77.0190</td>\n",
       "      <td>38.9003</td>\n",
       "      <td>-77.0429</td>\n",
       "    </tr>\n",
       "    <tr>\n",
       "      <th>3</th>\n",
       "      <td>1406</td>\n",
       "      <td>2010-09-20 12:06:05</td>\n",
       "      <td>2010-09-20 12:29:32</td>\n",
       "      <td>5th &amp; K St NW</td>\n",
       "      <td>Park Rd &amp; Holmead Pl NW</td>\n",
       "      <td>Member</td>\n",
       "      <td>(38.903, -77.01899999999999)</td>\n",
       "      <td>(38.9308, -77.0315)</td>\n",
       "      <td>38.9030</td>\n",
       "      <td>-77.0190</td>\n",
       "      <td>38.9308</td>\n",
       "      <td>-77.0315</td>\n",
       "    </tr>\n",
       "    <tr>\n",
       "      <th>4</th>\n",
       "      <td>1413</td>\n",
       "      <td>2010-09-20 12:10:43</td>\n",
       "      <td>2010-09-20 12:34:17</td>\n",
       "      <td>19th St &amp; Pennsylvania Ave NW</td>\n",
       "      <td>15th &amp; P St NW</td>\n",
       "      <td>Member</td>\n",
       "      <td>(38.9003, -77.0429)</td>\n",
       "      <td>(38.9099, -77.0344)</td>\n",
       "      <td>38.9003</td>\n",
       "      <td>-77.0429</td>\n",
       "      <td>38.9099</td>\n",
       "      <td>-77.0344</td>\n",
       "    </tr>\n",
       "  </tbody>\n",
       "</table>\n",
       "</div>"
      ],
      "text/plain": [
       "   duration           started_at             ended_at  \\\n",
       "0      1012  2010-09-20 11:27:04  2010-09-20 11:43:56   \n",
       "1        61  2010-09-20 11:41:22  2010-09-20 11:42:23   \n",
       "2      2690  2010-09-20 12:05:37  2010-09-20 12:50:27   \n",
       "3      1406  2010-09-20 12:06:05  2010-09-20 12:29:32   \n",
       "4      1413  2010-09-20 12:10:43  2010-09-20 12:34:17   \n",
       "\n",
       "              start_station_name               end_station_name member_casual  \\\n",
       "0       M St & New Jersey Ave SE                  4th & M St SW        Member   \n",
       "1                 1st & N St  SE                 1st & N St  SE        Member   \n",
       "2                  5th & K St NW  19th St & Pennsylvania Ave NW        Member   \n",
       "3                  5th & K St NW        Park Rd & Holmead Pl NW        Member   \n",
       "4  19th St & Pennsylvania Ave NW                 15th & P St NW        Member   \n",
       "\n",
       "                  start_lat_lng          end_lat_lng  start_lat  start_lng  \\\n",
       "0           (38.8763, -77.0037)  (38.8767, -77.0178)    38.8763   -77.0037   \n",
       "1           (38.8743, -77.0057)  (38.8743, -77.0057)    38.8743   -77.0057   \n",
       "2  (38.903, -77.01899999999999)  (38.9003, -77.0429)    38.9030   -77.0190   \n",
       "3  (38.903, -77.01899999999999)  (38.9308, -77.0315)    38.9030   -77.0190   \n",
       "4           (38.9003, -77.0429)  (38.9099, -77.0344)    38.9003   -77.0429   \n",
       "\n",
       "   end_lat  end_lng  \n",
       "0  38.8767 -77.0178  \n",
       "1  38.8743 -77.0057  \n",
       "2  38.9003 -77.0429  \n",
       "3  38.9308 -77.0315  \n",
       "4  38.9099 -77.0344  "
      ]
     },
     "execution_count": 59,
     "metadata": {},
     "output_type": "execute_result"
    }
   ],
   "source": [
    "df1[['start_lat', 'start_lng']] = pd.DataFrame(df1['start_lat_lng'].tolist())\n",
    "df1[['end_lat', 'end_lng']] = pd.DataFrame(df1['end_lat_lng'].tolist())\n",
    "df1.head()"
   ]
  },
  {
   "cell_type": "markdown",
   "metadata": {},
   "source": [
    "### Merge dataframes and export final dataframe"
   ]
  },
  {
   "cell_type": "code",
   "execution_count": 60,
   "metadata": {
    "ExecuteTime": {
     "end_time": "2020-12-22T05:01:50.905579Z",
     "start_time": "2020-12-22T05:01:09.296850Z"
    }
   },
   "outputs": [],
   "source": [
    "final_df = pd.concat([df1,df2], axis = 0, ignore_index = True)"
   ]
  },
  {
   "cell_type": "code",
   "execution_count": 45,
   "metadata": {
    "ExecuteTime": {
     "end_time": "2020-12-22T04:49:46.262371Z",
     "start_time": "2020-12-22T04:49:46.175373Z"
    },
    "scrolled": true
   },
   "outputs": [
    {
     "data": {
      "text/html": [
       "<div>\n",
       "<style scoped>\n",
       "    .dataframe tbody tr th:only-of-type {\n",
       "        vertical-align: middle;\n",
       "    }\n",
       "\n",
       "    .dataframe tbody tr th {\n",
       "        vertical-align: top;\n",
       "    }\n",
       "\n",
       "    .dataframe thead th {\n",
       "        text-align: right;\n",
       "    }\n",
       "</style>\n",
       "<table border=\"1\" class=\"dataframe\">\n",
       "  <thead>\n",
       "    <tr style=\"text-align: right;\">\n",
       "      <th></th>\n",
       "      <th>duration</th>\n",
       "      <th>started_at</th>\n",
       "      <th>ended_at</th>\n",
       "      <th>start_station_name</th>\n",
       "      <th>end_station_name</th>\n",
       "      <th>member_casual</th>\n",
       "      <th>start_lat_lng</th>\n",
       "      <th>end_lat_lng</th>\n",
       "      <th>rideable_type</th>\n",
       "      <th>start_lat</th>\n",
       "      <th>start_lng</th>\n",
       "      <th>end_lat</th>\n",
       "      <th>end_lng</th>\n",
       "    </tr>\n",
       "  </thead>\n",
       "  <tbody>\n",
       "    <tr>\n",
       "      <th>0</th>\n",
       "      <td>1012.0</td>\n",
       "      <td>2010-09-20 11:27:04</td>\n",
       "      <td>2010-09-20 11:43:56</td>\n",
       "      <td>M St &amp; New Jersey Ave SE</td>\n",
       "      <td>4th &amp; M St SW</td>\n",
       "      <td>Member</td>\n",
       "      <td>(38.8763, -77.0037)</td>\n",
       "      <td>(38.8767, -77.0178)</td>\n",
       "      <td>NaN</td>\n",
       "      <td>NaN</td>\n",
       "      <td>NaN</td>\n",
       "      <td>NaN</td>\n",
       "      <td>NaN</td>\n",
       "    </tr>\n",
       "    <tr>\n",
       "      <th>1</th>\n",
       "      <td>61.0</td>\n",
       "      <td>2010-09-20 11:41:22</td>\n",
       "      <td>2010-09-20 11:42:23</td>\n",
       "      <td>1st &amp; N St  SE</td>\n",
       "      <td>1st &amp; N St  SE</td>\n",
       "      <td>Member</td>\n",
       "      <td>(38.8743, -77.0057)</td>\n",
       "      <td>(38.8743, -77.0057)</td>\n",
       "      <td>NaN</td>\n",
       "      <td>NaN</td>\n",
       "      <td>NaN</td>\n",
       "      <td>NaN</td>\n",
       "      <td>NaN</td>\n",
       "    </tr>\n",
       "    <tr>\n",
       "      <th>2</th>\n",
       "      <td>2690.0</td>\n",
       "      <td>2010-09-20 12:05:37</td>\n",
       "      <td>2010-09-20 12:50:27</td>\n",
       "      <td>5th &amp; K St NW</td>\n",
       "      <td>19th St &amp; Pennsylvania Ave NW</td>\n",
       "      <td>Member</td>\n",
       "      <td>(38.903, -77.01899999999999)</td>\n",
       "      <td>(38.9003, -77.0429)</td>\n",
       "      <td>NaN</td>\n",
       "      <td>NaN</td>\n",
       "      <td>NaN</td>\n",
       "      <td>NaN</td>\n",
       "      <td>NaN</td>\n",
       "    </tr>\n",
       "    <tr>\n",
       "      <th>3</th>\n",
       "      <td>1406.0</td>\n",
       "      <td>2010-09-20 12:06:05</td>\n",
       "      <td>2010-09-20 12:29:32</td>\n",
       "      <td>5th &amp; K St NW</td>\n",
       "      <td>Park Rd &amp; Holmead Pl NW</td>\n",
       "      <td>Member</td>\n",
       "      <td>(38.903, -77.01899999999999)</td>\n",
       "      <td>(38.9308, -77.0315)</td>\n",
       "      <td>NaN</td>\n",
       "      <td>NaN</td>\n",
       "      <td>NaN</td>\n",
       "      <td>NaN</td>\n",
       "      <td>NaN</td>\n",
       "    </tr>\n",
       "    <tr>\n",
       "      <th>4</th>\n",
       "      <td>1413.0</td>\n",
       "      <td>2010-09-20 12:10:43</td>\n",
       "      <td>2010-09-20 12:34:17</td>\n",
       "      <td>19th St &amp; Pennsylvania Ave NW</td>\n",
       "      <td>15th &amp; P St NW</td>\n",
       "      <td>Member</td>\n",
       "      <td>(38.9003, -77.0429)</td>\n",
       "      <td>(38.9099, -77.0344)</td>\n",
       "      <td>NaN</td>\n",
       "      <td>NaN</td>\n",
       "      <td>NaN</td>\n",
       "      <td>NaN</td>\n",
       "      <td>NaN</td>\n",
       "    </tr>\n",
       "    <tr>\n",
       "      <th>...</th>\n",
       "      <td>...</td>\n",
       "      <td>...</td>\n",
       "      <td>...</td>\n",
       "      <td>...</td>\n",
       "      <td>...</td>\n",
       "      <td>...</td>\n",
       "      <td>...</td>\n",
       "      <td>...</td>\n",
       "      <td>...</td>\n",
       "      <td>...</td>\n",
       "      <td>...</td>\n",
       "      <td>...</td>\n",
       "      <td>...</td>\n",
       "    </tr>\n",
       "    <tr>\n",
       "      <th>28163129</th>\n",
       "      <td>2656.0</td>\n",
       "      <td>2020-11-10 11:10:51</td>\n",
       "      <td>2020-11-10 11:55:07</td>\n",
       "      <td>New York Avenue Northeast</td>\n",
       "      <td>P Street Northwest</td>\n",
       "      <td>casual</td>\n",
       "      <td>(38.91, -77.0)</td>\n",
       "      <td>(38.91, -77.01)</td>\n",
       "      <td>electric_bike</td>\n",
       "      <td>38.910000</td>\n",
       "      <td>-77.000000</td>\n",
       "      <td>38.91</td>\n",
       "      <td>-77.01</td>\n",
       "    </tr>\n",
       "    <tr>\n",
       "      <th>28163130</th>\n",
       "      <td>1744.0</td>\n",
       "      <td>2020-11-10 13:40:56</td>\n",
       "      <td>2020-11-10 14:10:00</td>\n",
       "      <td>Adams Street Northwest</td>\n",
       "      <td>Georgia Avenue</td>\n",
       "      <td>casual</td>\n",
       "      <td>(38.92, -77.01)</td>\n",
       "      <td>(39.0, -77.03)</td>\n",
       "      <td>electric_bike</td>\n",
       "      <td>38.920000</td>\n",
       "      <td>-77.010000</td>\n",
       "      <td>39.00</td>\n",
       "      <td>-77.03</td>\n",
       "    </tr>\n",
       "    <tr>\n",
       "      <th>28163131</th>\n",
       "      <td>541.0</td>\n",
       "      <td>2020-11-10 13:37:16</td>\n",
       "      <td>2020-11-10 13:46:17</td>\n",
       "      <td>Wisconsin Ave &amp; Newark St NW</td>\n",
       "      <td>41st Street Northwest</td>\n",
       "      <td>casual</td>\n",
       "      <td>(38.934946999999994, -77.072849)</td>\n",
       "      <td>(38.95, -77.08)</td>\n",
       "      <td>electric_bike</td>\n",
       "      <td>38.934947</td>\n",
       "      <td>-77.072849</td>\n",
       "      <td>38.95</td>\n",
       "      <td>-77.08</td>\n",
       "    </tr>\n",
       "    <tr>\n",
       "      <th>28163132</th>\n",
       "      <td>219.0</td>\n",
       "      <td>2020-11-10 15:05:42</td>\n",
       "      <td>2020-11-10 15:09:21</td>\n",
       "      <td>41st Street Northwest</td>\n",
       "      <td>41st Street Northwest</td>\n",
       "      <td>casual</td>\n",
       "      <td>(38.95, -77.08)</td>\n",
       "      <td>(38.95, -77.08)</td>\n",
       "      <td>electric_bike</td>\n",
       "      <td>38.950000</td>\n",
       "      <td>-77.080000</td>\n",
       "      <td>38.95</td>\n",
       "      <td>-77.08</td>\n",
       "    </tr>\n",
       "    <tr>\n",
       "      <th>28163133</th>\n",
       "      <td>183.0</td>\n",
       "      <td>2020-11-10 14:26:31</td>\n",
       "      <td>2020-11-10 14:29:34</td>\n",
       "      <td>41st Street Northwest</td>\n",
       "      <td>41st Street Northwest</td>\n",
       "      <td>casual</td>\n",
       "      <td>(38.95, -77.08)</td>\n",
       "      <td>(38.95, -77.08)</td>\n",
       "      <td>electric_bike</td>\n",
       "      <td>38.950000</td>\n",
       "      <td>-77.080000</td>\n",
       "      <td>38.95</td>\n",
       "      <td>-77.08</td>\n",
       "    </tr>\n",
       "  </tbody>\n",
       "</table>\n",
       "<p>28163134 rows × 13 columns</p>\n",
       "</div>"
      ],
      "text/plain": [
       "          duration           started_at             ended_at  \\\n",
       "0           1012.0  2010-09-20 11:27:04  2010-09-20 11:43:56   \n",
       "1             61.0  2010-09-20 11:41:22  2010-09-20 11:42:23   \n",
       "2           2690.0  2010-09-20 12:05:37  2010-09-20 12:50:27   \n",
       "3           1406.0  2010-09-20 12:06:05  2010-09-20 12:29:32   \n",
       "4           1413.0  2010-09-20 12:10:43  2010-09-20 12:34:17   \n",
       "...            ...                  ...                  ...   \n",
       "28163129    2656.0  2020-11-10 11:10:51  2020-11-10 11:55:07   \n",
       "28163130    1744.0  2020-11-10 13:40:56  2020-11-10 14:10:00   \n",
       "28163131     541.0  2020-11-10 13:37:16  2020-11-10 13:46:17   \n",
       "28163132     219.0  2020-11-10 15:05:42  2020-11-10 15:09:21   \n",
       "28163133     183.0  2020-11-10 14:26:31  2020-11-10 14:29:34   \n",
       "\n",
       "                     start_station_name               end_station_name  \\\n",
       "0              M St & New Jersey Ave SE                  4th & M St SW   \n",
       "1                        1st & N St  SE                 1st & N St  SE   \n",
       "2                         5th & K St NW  19th St & Pennsylvania Ave NW   \n",
       "3                         5th & K St NW        Park Rd & Holmead Pl NW   \n",
       "4         19th St & Pennsylvania Ave NW                 15th & P St NW   \n",
       "...                                 ...                            ...   \n",
       "28163129      New York Avenue Northeast             P Street Northwest   \n",
       "28163130         Adams Street Northwest                 Georgia Avenue   \n",
       "28163131   Wisconsin Ave & Newark St NW          41st Street Northwest   \n",
       "28163132          41st Street Northwest          41st Street Northwest   \n",
       "28163133          41st Street Northwest          41st Street Northwest   \n",
       "\n",
       "         member_casual                     start_lat_lng          end_lat_lng  \\\n",
       "0               Member               (38.8763, -77.0037)  (38.8767, -77.0178)   \n",
       "1               Member               (38.8743, -77.0057)  (38.8743, -77.0057)   \n",
       "2               Member      (38.903, -77.01899999999999)  (38.9003, -77.0429)   \n",
       "3               Member      (38.903, -77.01899999999999)  (38.9308, -77.0315)   \n",
       "4               Member               (38.9003, -77.0429)  (38.9099, -77.0344)   \n",
       "...                ...                               ...                  ...   \n",
       "28163129        casual                    (38.91, -77.0)      (38.91, -77.01)   \n",
       "28163130        casual                   (38.92, -77.01)       (39.0, -77.03)   \n",
       "28163131        casual  (38.934946999999994, -77.072849)      (38.95, -77.08)   \n",
       "28163132        casual                   (38.95, -77.08)      (38.95, -77.08)   \n",
       "28163133        casual                   (38.95, -77.08)      (38.95, -77.08)   \n",
       "\n",
       "          rideable_type  start_lat  start_lng  end_lat  end_lng  \n",
       "0                   NaN        NaN        NaN      NaN      NaN  \n",
       "1                   NaN        NaN        NaN      NaN      NaN  \n",
       "2                   NaN        NaN        NaN      NaN      NaN  \n",
       "3                   NaN        NaN        NaN      NaN      NaN  \n",
       "4                   NaN        NaN        NaN      NaN      NaN  \n",
       "...                 ...        ...        ...      ...      ...  \n",
       "28163129  electric_bike  38.910000 -77.000000    38.91   -77.01  \n",
       "28163130  electric_bike  38.920000 -77.010000    39.00   -77.03  \n",
       "28163131  electric_bike  38.934947 -77.072849    38.95   -77.08  \n",
       "28163132  electric_bike  38.950000 -77.080000    38.95   -77.08  \n",
       "28163133  electric_bike  38.950000 -77.080000    38.95   -77.08  \n",
       "\n",
       "[28163134 rows x 13 columns]"
      ]
     },
     "execution_count": 45,
     "metadata": {},
     "output_type": "execute_result"
    }
   ],
   "source": [
    "final_df.head()"
   ]
  },
  {
   "cell_type": "code",
   "execution_count": 67,
   "metadata": {
    "ExecuteTime": {
     "end_time": "2020-12-22T07:10:31.276179Z",
     "start_time": "2020-12-22T07:02:54.915947Z"
    }
   },
   "outputs": [],
   "source": [
    "# final dataset is too big (5GB) for one csv, will be split into multiple\n",
    "for id, df_i in  enumerate(np.array_split(final_df, 5)):\n",
    "    df_i.to_csv(f'data/combined_data{id}.csv')"
   ]
  },
  {
   "cell_type": "code",
   "execution_count": null,
   "metadata": {},
   "outputs": [],
   "source": []
  }
 ],
 "metadata": {
  "kernelspec": {
   "display_name": "Python 3",
   "language": "python",
   "name": "python3"
  },
  "language_info": {
   "codemirror_mode": {
    "name": "ipython",
    "version": 3
   },
   "file_extension": ".py",
   "mimetype": "text/x-python",
   "name": "python",
   "nbconvert_exporter": "python",
   "pygments_lexer": "ipython3",
   "version": "3.8.3"
  },
  "varInspector": {
   "cols": {
    "lenName": 16,
    "lenType": 16,
    "lenVar": 40
   },
   "kernels_config": {
    "python": {
     "delete_cmd_postfix": "",
     "delete_cmd_prefix": "del ",
     "library": "var_list.py",
     "varRefreshCmd": "print(var_dic_list())"
    },
    "r": {
     "delete_cmd_postfix": ") ",
     "delete_cmd_prefix": "rm(",
     "library": "var_list.r",
     "varRefreshCmd": "cat(var_dic_list()) "
    }
   },
   "types_to_exclude": [
    "module",
    "function",
    "builtin_function_or_method",
    "instance",
    "_Feature"
   ],
   "window_display": false
  }
 },
 "nbformat": 4,
 "nbformat_minor": 4
}
